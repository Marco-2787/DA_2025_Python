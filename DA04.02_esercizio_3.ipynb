{
 "cells": [
  {
   "cell_type": "code",
   "execution_count": null,
   "id": "986399a6-4d5f-4514-9e12-7e38c2287aae",
   "metadata": {},
   "outputs": [],
   "source": [
    "#esercizio_1 \n",
    "#Abbiamo una lista di liste: mat = [[0, 1, 2, 3, 4], [5, 6, 7, 8, 9], [10, 11, 12, 13, 14]] \n",
    "#Che tipo di struttura dati o matematica potrebbe rappresentare? \n",
    "#Notare che tutte le liste \"interne\" sono della stessa dimensione \n",
    "#Come facciamo per accedere ad un elemento in particolare?"
   ]
  },
  {
   "cell_type": "code",
   "execution_count": 42,
   "id": "e3c9b398-414f-4c65-9ed0-498bdc22cdeb",
   "metadata": {},
   "outputs": [],
   "source": [
    "import numpy as npy #importo numpy"
   ]
  },
  {
   "cell_type": "code",
   "execution_count": 5,
   "id": "5a22aa7c-7c81-4e08-af6d-8b501a8053f0",
   "metadata": {},
   "outputs": [],
   "source": [
    "mat =[[0, 1, 2, 3, 4], [5, 6, 7, 8, 9], [10, 11, 12, 13, 14]] # creo la lista"
   ]
  },
  {
   "cell_type": "code",
   "execution_count": 9,
   "id": "abbd3e84-7efd-47a3-8606-32cdb3e2f46c",
   "metadata": {},
   "outputs": [],
   "source": [
    "mat_npy=npy.array(mat) #casting"
   ]
  },
  {
   "cell_type": "code",
   "execution_count": 11,
   "id": "1398514c-8584-43c6-bc44-a48663b756c4",
   "metadata": {},
   "outputs": [
    {
     "data": {
      "text/plain": [
       "array([[ 0,  1,  2,  3,  4],\n",
       "       [ 5,  6,  7,  8,  9],\n",
       "       [10, 11, 12, 13, 14]])"
      ]
     },
     "execution_count": 11,
     "metadata": {},
     "output_type": "execute_result"
    }
   ],
   "source": [
    "mat_npy"
   ]
  },
  {
   "cell_type": "code",
   "execution_count": 17,
   "id": "7ab275f3-4e99-4241-9a4c-09f666da109f",
   "metadata": {},
   "outputs": [
    {
     "data": {
      "text/plain": [
       "7"
      ]
     },
     "execution_count": 17,
     "metadata": {},
     "output_type": "execute_result"
    }
   ],
   "source": [
    "mat_npy[#n°lista , n° all'interno della lista selezionata]"
   ]
  },
  {
   "cell_type": "code",
   "execution_count": null,
   "id": "af19c60e-6bb3-4050-9626-4932205290f7",
   "metadata": {},
   "outputs": [],
   "source": [
    "#esercizio_2\n",
    "#Importiamo il modulo math e proviamo a usare le funzioni \n",
    "# .sin() .cos() .factorial() e la variabile .pi \n",
    "#la riconoscete?"
   ]
  },
  {
   "cell_type": "code",
   "execution_count": 2,
   "id": "dbf17397-fd67-47ac-9881-1bf0f6d4396a",
   "metadata": {},
   "outputs": [],
   "source": [
    "import math #importo il modulo math"
   ]
  },
  {
   "cell_type": "code",
   "execution_count": 14,
   "id": "4df0da15-9606-4044-9bc1-e4383f02277d",
   "metadata": {},
   "outputs": [
    {
     "data": {
      "text/plain": [
       "0.0"
      ]
     },
     "execution_count": 14,
     "metadata": {},
     "output_type": "execute_result"
    }
   ],
   "source": [
    "math.sin(0) #funzione seno"
   ]
  },
  {
   "cell_type": "code",
   "execution_count": 16,
   "id": "c9b78aa9-16fc-400b-8559-3ec26d239cc4",
   "metadata": {},
   "outputs": [
    {
     "data": {
      "text/plain": [
       "1.0"
      ]
     },
     "execution_count": 16,
     "metadata": {},
     "output_type": "execute_result"
    }
   ],
   "source": [
    "math.cos(0) #funzione coseno"
   ]
  },
  {
   "cell_type": "code",
   "execution_count": 18,
   "id": "2759a704-2ebd-4b70-b414-ace9c7fc289f",
   "metadata": {},
   "outputs": [
    {
     "data": {
      "text/plain": [
       "3628800"
      ]
     },
     "execution_count": 18,
     "metadata": {},
     "output_type": "execute_result"
    }
   ],
   "source": [
    "math.factorial(10) #funzione fattoriale"
   ]
  },
  {
   "cell_type": "code",
   "execution_count": 28,
   "id": "5f3ce17a-ef5d-455e-a0e1-3f3d18d915d1",
   "metadata": {},
   "outputs": [
    {
     "data": {
      "text/plain": [
       "6.283185307179586"
      ]
     },
     "execution_count": 28,
     "metadata": {},
     "output_type": "execute_result"
    }
   ],
   "source": [
    "math.pi*2 #è la variante pi-greco"
   ]
  },
  {
   "cell_type": "code",
   "execution_count": null,
   "id": "39451324-183c-4883-a828-765fea0516e3",
   "metadata": {},
   "outputs": [],
   "source": [
    "#esercizio_3\n",
    "#Proviamo a eseguire math.degrees(math.pi) \n",
    "#Qual è e cosa significa il risultato? \n",
    "#Per saperne di più su questa funzione possiamo usare help(math.degrees)"
   ]
  },
  {
   "cell_type": "code",
   "execution_count": 30,
   "id": "ed33ece2-ae4c-403d-9730-5e913c51fab9",
   "metadata": {},
   "outputs": [
    {
     "data": {
      "text/plain": [
       "180.0"
      ]
     },
     "execution_count": 30,
     "metadata": {},
     "output_type": "execute_result"
    }
   ],
   "source": [
    "math.degrees(math.pi)"
   ]
  },
  {
   "cell_type": "code",
   "execution_count": 32,
   "id": "d6f1592b-1fca-4a4e-8260-2e434bbf8ab1",
   "metadata": {},
   "outputs": [
    {
     "name": "stdout",
     "output_type": "stream",
     "text": [
      "Help on built-in function degrees in module math:\n",
      "\n",
      "degrees(x, /)\n",
      "    Convert angle x from radians to degrees.\n",
      "\n"
     ]
    }
   ],
   "source": [
    "help(math.degrees) \n",
    "#math.degrees converte \n",
    "#il pi-greco in misura dell'angolo in gradi radiali"
   ]
  },
  {
   "cell_type": "code",
   "execution_count": null,
   "id": "7f88c600-baf7-478d-bd8e-f294cec226d5",
   "metadata": {},
   "outputs": [],
   "source": [
    "#esercizio_4\n",
    "#L'azienda Object SpA ha creato una lista di quanti oggetti ha venduto ogni mese nell'ultimo anno: \n",
    "#lst = [2000, 5500, 7200, 4320, 1280, 1900, 2500, 3900, 6410, 8150, 7100, 5350] \n",
    "#trasformiamola in un array NumPy (casting): lst = np.array(lst) \n",
    "#e rispondiamo alle domande del CEO della Object SpA: \n",
    "#qual è stata la vendita massima mensile? E quella minima? \n",
    "#quali sono le vendite mensili maggiori di 5000 oggetti? E quante ne sono? \n",
    "#quali sono le vendite minori di 3000 oggetti? \n",
    "#in media quanti oggetti sono stati venduti al mese?"
   ]
  },
  {
   "cell_type": "code",
   "execution_count": 36,
   "id": "f21262f7-6c63-4fdd-afd3-50f43102bb6a",
   "metadata": {},
   "outputs": [],
   "source": [
    "lst=[2000, 5500, 7200, 4320, 1280, 1900, 2500, 3900, 6410, 8150, 7100, 5350]"
   ]
  },
  {
   "cell_type": "code",
   "execution_count": 73,
   "id": "a26ece7d-9505-4297-a841-ab17fea19b36",
   "metadata": {},
   "outputs": [],
   "source": [
    "lst_npy=npy.array(lst) #casting"
   ]
  },
  {
   "cell_type": "code",
   "execution_count": 93,
   "id": "14ea5fcb-c165-43ab-824a-78f5a2512826",
   "metadata": {},
   "outputs": [
    {
     "data": {
      "text/plain": [
       "1280"
      ]
     },
     "execution_count": 93,
     "metadata": {},
     "output_type": "execute_result"
    }
   ],
   "source": [
    "lst_npy.min()#valore minimo"
   ]
  },
  {
   "cell_type": "code",
   "execution_count": 95,
   "id": "ce20d60f-2838-4ddc-b428-23a517bd5ec9",
   "metadata": {},
   "outputs": [
    {
     "data": {
      "text/plain": [
       "8150"
      ]
     },
     "execution_count": 95,
     "metadata": {},
     "output_type": "execute_result"
    }
   ],
   "source": [
    "lst_npy.max()#valore massimo"
   ]
  },
  {
   "cell_type": "code",
   "execution_count": 99,
   "id": "ffb29d7d-e3cf-48ff-a454-d3db9ad015be",
   "metadata": {},
   "outputs": [
    {
     "data": {
      "text/plain": [
       "array([False,  True,  True, False, False, False, False, False,  True,\n",
       "        True,  True,  True])"
      ]
     },
     "execution_count": 99,
     "metadata": {},
     "output_type": "execute_result"
    }
   ],
   "source": [
    "lst_npy>5000#valori maggiori di 5000"
   ]
  },
  {
   "cell_type": "code",
   "execution_count": 121,
   "id": "c4afa2b8-f5c8-4934-9d74-c5afc3f79369",
   "metadata": {},
   "outputs": [],
   "source": [
    "lst_over5000=lst_npy [lst_npy>5000]"
   ]
  },
  {
   "cell_type": "code",
   "execution_count": 123,
   "id": "a2b764cc-7aa6-4ebe-8a84-070d58241c4f",
   "metadata": {},
   "outputs": [
    {
     "data": {
      "text/plain": [
       "array([5500, 7200, 6410, 8150, 7100, 5350])"
      ]
     },
     "execution_count": 123,
     "metadata": {},
     "output_type": "execute_result"
    }
   ],
   "source": [
    "lst_over5000"
   ]
  },
  {
   "cell_type": "code",
   "execution_count": 135,
   "id": "4a19b80a-b63e-4915-806c-220b084cf7f7",
   "metadata": {},
   "outputs": [],
   "source": [
    "lst_under3000=lst_npy[lst_npy<3000]#minore di 3000"
   ]
  },
  {
   "cell_type": "code",
   "execution_count": 133,
   "id": "18e5ca4c-1369-4a20-9a78-d3df8a7849c3",
   "metadata": {},
   "outputs": [
    {
     "data": {
      "text/plain": [
       "array([2000, 1280, 1900, 2500])"
      ]
     },
     "execution_count": 133,
     "metadata": {},
     "output_type": "execute_result"
    }
   ],
   "source": [
    "lst_under3000"
   ]
  },
  {
   "cell_type": "code",
   "execution_count": 141,
   "id": "4250d3f4-630a-4014-94c9-1a47b823caef",
   "metadata": {},
   "outputs": [
    {
     "data": {
      "text/plain": [
       "4634.166666666667"
      ]
     },
     "execution_count": 141,
     "metadata": {},
     "output_type": "execute_result"
    }
   ],
   "source": [
    "lst_npy.mean()#media vendite mensili"
   ]
  },
  {
   "cell_type": "code",
   "execution_count": null,
   "id": "e23eb485-6647-44dd-a88f-be74e0cf57b6",
   "metadata": {},
   "outputs": [],
   "source": []
  }
 ],
 "metadata": {
  "kernelspec": {
   "display_name": "Python [conda env:base] *",
   "language": "python",
   "name": "conda-base-py"
  },
  "language_info": {
   "codemirror_mode": {
    "name": "ipython",
    "version": 3
   },
   "file_extension": ".py",
   "mimetype": "text/x-python",
   "name": "python",
   "nbconvert_exporter": "python",
   "pygments_lexer": "ipython3",
   "version": "3.12.7"
  }
 },
 "nbformat": 4,
 "nbformat_minor": 5
}
