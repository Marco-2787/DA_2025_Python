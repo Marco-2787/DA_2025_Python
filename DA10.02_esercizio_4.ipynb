{
 "cells": [
  {
   "cell_type": "code",
   "execution_count": 17,
   "id": "f0f629d1-f744-4252-9481-1c4eeb0e0cdb",
   "metadata": {},
   "outputs": [],
   "source": [
    "import pandas as pd"
   ]
  },
  {
   "cell_type": "code",
   "execution_count": 19,
   "id": "407cc110-cc94-4194-95a3-ecd95218b845",
   "metadata": {},
   "outputs": [],
   "source": [
    "locali=pd.read_csv(\"C:/Users/Marco/Desktop/Epicode/Mappa-dei-pub-circoli-locali-in-Italia.csv\", encoding=\"latin1\", sep=\";\")"
   ]
  },
  {
   "cell_type": "code",
   "execution_count": 21,
   "id": "33e24053-6f75-4971-b337-46ae545a78d7",
   "metadata": {},
   "outputs": [],
   "source": [
    "#esercizio_1\n",
    "#quanti dati ci sono in totale? \n",
    "#quali sono i metadati? le colonne\n",
    "#stampiamo il primo elemento \n",
    "#stampiamo l'ultimo elemento \n",
    "#riusciamo a stampare un elemento a caso? \n",
    "#quali sono gli anni di inserimento presenti? \n",
    "#quante attività ci sono nel quadrato di longitudine 9-10 e latitudine 45-46? \n",
    "#quante attività ci sono nella provincia di Vicenza? \n",
    "#quante enoteche ci sono, e come si chiamano? \n",
    "#quante attività ci sono in Lazio e Abruzzo assieme?"
   ]
  },
  {
   "cell_type": "code",
   "execution_count": null,
   "id": "2cc67f97-fd7e-4e7d-8958-cf8a1392b0a9",
   "metadata": {},
   "outputs": [],
   "source": [
    "locali.shape\n",
    "locali.head(1)\n",
    "locali.tail(1)\n",
    "locali.sample()\n",
    "locali.groupby(\"Anno inserimento\")[\"Anno inserimento\"].max()"
   ]
  },
  {
   "cell_type": "code",
   "execution_count": null,
   "id": "636bf283-edc1-4489-8d36-d133fb3c8f75",
   "metadata": {},
   "outputs": [],
   "source": [
    "filtro_lon = locali['Longitudine'].between(9, 10, inclusive = 'both')\n",
    "filtro_lan = locali['Latitudine'].between(45, 46, inclusive = 'both')\n",
    "print(\"Attività nel quadrato long: 9-10; lat: 45-46: \", len(locali[ filtro_lon & filtro_lat ]))"
   ]
  },
  {
   "cell_type": "code",
   "execution_count": null,
   "id": "c29a6fba-ed60-49ef-a4bd-a2cb51550302",
   "metadata": {},
   "outputs": [],
   "source": [
    "print(\"Attività nella provicina di Vicenza:\", len(locali[ locali[\"Provincia\"] == \"VICENZA\" ]))"
   ]
  },
  {
   "cell_type": "code",
   "execution_count": null,
   "id": "5a8f8f9f-0b9a-4591-b1e1-4c11e74d6b11",
   "metadata": {},
   "outputs": [],
   "source": [
    "locali['Nome'] = locali['Nome']\n",
    "filtro_eno = locali[\"Nome\"].str.lower().str.contains(\"enoteca\")\n",
    "\n",
    "print(\"Enoteche totali:\", len(locali[ filtro_eno ]))\n",
    "display(locali[ filtro_eno ].Nome)"
   ]
  },
  {
   "cell_type": "code",
   "execution_count": null,
   "id": "c0f9f7b5-fde2-4f8f-8f5c-b90b0cf96b59",
   "metadata": {},
   "outputs": [],
   "source": [
    "print(\"Attività nel Lazio e Abruzzo:\", len(locali[ (locali[\"Regione\"] == \"Lazio\") | (locali[\"Regione\"] == \"Abruzzo\") ]))"
   ]
  },
  {
   "cell_type": "code",
   "execution_count": null,
   "id": "1b5665d2-1a63-478e-ad31-90d08591dffe",
   "metadata": {},
   "outputs": [],
   "source": [
    "# esercizio_2\n",
    "#Il dataset insurance.csv dei beginner_datasets contiene dati su caratteristiche e abitudini delle persone \n",
    "#rispetto ai costi individuali per le cure mediche come premio per le assicurazioni sulla salute.\n",
    "#Visualizziamone le dimensioni, un'anteprima, e osserviamo i nomi di colonna;\n",
    "#Quali sono le medie di charges rispetto a region? Ci sono differenze significative?\n",
    "#E rispetto a smoker? E a sex?\n",
    "#Quali sono i descrittori statistici di bmi? Quali sono minimo, media e massimo di charges rispetto ai diversi quartili dei valori di bmi?\n",
    "#Nota: è lo stesso esercizio della volta scorsa, ma stavolta da eseguire con il metodo .groupby()"
   ]
  },
  {
   "cell_type": "code",
   "execution_count": 47,
   "id": "2f5d1c14-3a4c-438a-9ad4-46c9ea23045c",
   "metadata": {},
   "outputs": [],
   "source": [
    "insu_df=pd.read_csv (\"C:/Users/Marco/Desktop/Epicode/Python/datasets/datasets/beginner_datasets/insurance.csv\")"
   ]
  },
  {
   "cell_type": "code",
   "execution_count": null,
   "id": "38e91d03-42a7-467c-aee3-b520bab14084",
   "metadata": {},
   "outputs": [],
   "source": [
    "print(\"Dimensione del dataset:\", insu_df.shape)\n",
    "print(\"5 righe a caso:\")\n",
    "display(insu_df.sample(5))"
   ]
  },
  {
   "cell_type": "code",
   "execution_count": null,
   "id": "196354fd-dcf1-4915-ba5d-a499e1e330f2",
   "metadata": {},
   "outputs": [],
   "source": [
    "print(\"Media per \", insu_df.groupby(\"region\")[\"charges\"].mean(), sep='')"
   ]
  },
  {
   "cell_type": "code",
   "execution_count": null,
   "id": "5694ec61-621d-4c0c-bafb-40895147c8ef",
   "metadata": {},
   "outputs": [],
   "source": [
    "print(\"Media per \", insu_df.groupby(\"smoker\")[\"charges\"].mean(), sep='')"
   ]
  },
  {
   "cell_type": "code",
   "execution_count": null,
   "id": "9c233d75-0e24-4232-8552-798134ba0823",
   "metadata": {},
   "outputs": [],
   "source": [
    "print(\"Media per \", insu_df.groupby(\"sex\")[\"charges\"].mean(), sep='')"
   ]
  },
  {
   "cell_type": "code",
   "execution_count": null,
   "id": "dd993d26-a756-4147-a59c-b0a6a548482a",
   "metadata": {},
   "outputs": [],
   "source": [
    "print(\"Statistica descrittiva di 'bmi':\")\n",
    "print(insu_df['bmi'].describe())"
   ]
  },
  {
   "cell_type": "code",
   "execution_count": null,
   "id": "6ffe7ec5-9edc-485f-8117-c069adc9d7d5",
   "metadata": {},
   "outputs": [],
   "source": [
    "insu_df['bmi_quartile'] = pd.qcut(insu_df['bmi'], q=4)\n",
    "\n",
    "print('Minimo, massimo e media di charges rispetto al quartile di bmi:')\n",
    "display(insu_df.groupby('bmi_quartile')['charges'].agg(['min', 'max', 'mean']))"
   ]
  },
  {
   "cell_type": "code",
   "execution_count": null,
   "id": "131757cf-6e71-4592-a8bb-de901be480e5",
   "metadata": {},
   "outputs": [],
   "source": [
    "for i in range(1, 4):\n",
    "    charges_quart = insu_df[ insu_df['bmi'] <= insu_df['bmi'].quantile( i/4.0 ) ]['charges']\n",
    "    print(f\"Quartile {i/4.0}: \\tmin={charges_quart.min()}\\tmax={charges_quart.max()}\\t  mean={charges_quart.mean()}\")"
   ]
  },
  {
   "cell_type": "code",
   "execution_count": null,
   "id": "74b9c2bb-095a-4670-8a9b-d47ea6b765ef",
   "metadata": {},
   "outputs": [],
   "source": [
    "#esercizio_3\n",
    "#Carichiamo in un DataFrame il dataset iris.csv dei beginner_datasets e calcoliamo:\n",
    "#La media della lunghezza dei petali di tutto il dataset\n",
    "#La media della lunghezza dei petali per ogni specie di Iris, utilizzando il metodo .groupby()\n",
    "#Media, minimo e massimo della larghezza dei sepali per ogni specie, utilizzando .groupby() e .agg()"
   ]
  },
  {
   "cell_type": "code",
   "execution_count": 61,
   "id": "1ec1dfab-e250-4aee-8167-d9ed422cfad9",
   "metadata": {},
   "outputs": [],
   "source": [
    "iris_df=pd.read_csv(\"C:/Users/Marco/Desktop/Epicode/Python/datasets/datasets/beginner_datasets/iris.csv\")"
   ]
  },
  {
   "cell_type": "code",
   "execution_count": null,
   "id": "e7b83ed3-5ea8-4696-9477-a7e6a674185c",
   "metadata": {},
   "outputs": [],
   "source": [
    "print(iris_df.columns)"
   ]
  },
  {
   "cell_type": "code",
   "execution_count": null,
   "id": "99b786e0-a2e5-4bc9-ba8e-79e57b60ef0e",
   "metadata": {},
   "outputs": [],
   "source": [
    "print(f\"Lunghezza media dei petali: {iris_df['petal_length'].agg('mean'):.3f}\\n\")\n",
    "print(\"Lunghezza media dei petali per \", iris_df.groupby('species')['petal_length'].agg('mean'), sep='')"
   ]
  },
  {
   "cell_type": "code",
   "execution_count": null,
   "id": "f808ce62-3fd7-4258-ac02-174cf55ab659",
   "metadata": {},
   "outputs": [],
   "source": [
    "print(\"Lunghezza media, minima e massima dei seoali per species:\")\n",
    "iris_df.groupby('species')['sepal_width'].agg(['mean', 'min', 'max'])"
   ]
  },
  {
   "cell_type": "code",
   "execution_count": null,
   "id": "d0845b23-621e-4ba5-942f-aa83cf88a16a",
   "metadata": {},
   "outputs": [],
   "source": [
    "#esercizio_4\n",
    "#Nei beginner_datasets, il dataset wine.csv contiene delle analisi organolettiche su diverse qualità di vini:\n",
    "#Qual è la media di concentrazione alcolica per ogni qualità? Ci sono differenze? E rispetto alla media totale?\n",
    "#C'è differenza nella concentrazione alcolica per vini bianchi e vini rossi?\n",
    "#Rifacendo le analisi dei due punti precedenti ma per il pH, cambia qualcosa?\n",
    "#E per i solfati?"
   ]
  },
  {
   "cell_type": "code",
   "execution_count": 67,
   "id": "4703b445-cf20-42d4-b57c-2c32c44b4a36",
   "metadata": {},
   "outputs": [],
   "source": [
    "wine_df=pd.read_csv(\"C:/Users/Marco/Desktop/Epicode/Python/datasets/datasets/beginner_datasets/wine.csv\")"
   ]
  },
  {
   "cell_type": "code",
   "execution_count": null,
   "id": "831a3953-a2c6-4dca-9c33-7ce7438ed596",
   "metadata": {},
   "outputs": [],
   "source": [
    "print(wine_df.columns)"
   ]
  },
  {
   "cell_type": "code",
   "execution_count": null,
   "id": "c3d8d88d-1956-487b-a093-7c9ef2bc49eb",
   "metadata": {},
   "outputs": [],
   "source": [
    "wine_alcohol_mean = wine_df['alcohol'].mean()\n",
    "wine_alcohol_mean_quality = wine_df.groupby('quality')['alcohol'].mean()\n",
    "\n",
    "print('Media di concentrazione alcolica totale:', wine_alcohol_mean)\n",
    "print('Media di concentrazione alcolica per', wine_alcohol_mean_quality)"
   ]
  },
  {
   "cell_type": "code",
   "execution_count": null,
   "id": "bce8842a-fd10-4291-80df-9ac72ced8a8d",
   "metadata": {},
   "outputs": [],
   "source": [
    "print('Differenze rispetto alla media', abs(wine_alcohol_mean_quality - wine_alcohol_mean))"
   ]
  },
  {
   "cell_type": "code",
   "execution_count": null,
   "id": "8933942b-299f-4d97-9a42-9c76900a531d",
   "metadata": {},
   "outputs": [],
   "source": [
    "print(\"Differenza conc. alcolica per tipo di vino:\\n\", wine_df.groupby('type')['alcohol'].mean())"
   ]
  },
  {
   "cell_type": "code",
   "execution_count": null,
   "id": "4a95fb44-13fb-4a01-aca1-ee0473939f40",
   "metadata": {},
   "outputs": [],
   "source": [
    "wine_ph_mean = wine_df['pH'].mean()\n",
    "wine_ph_mean_quality = wine_df.groupby('quality')['pH'].mean()\n",
    "\n",
    "print('Media del pH totale:', wine_ph_mean)\n",
    "print('Media del pH per', wine_ph_mean_quality)\n",
    "print(\"\\nDifferenza pH per tipo di vino:\\n\", wine_df.groupby('type')['pH'].mean())"
   ]
  },
  {
   "cell_type": "code",
   "execution_count": null,
   "id": "71acf5b7-1b3d-40d8-b70c-3b8103c89317",
   "metadata": {},
   "outputs": [],
   "source": [
    "wine_sulphates_mean = wine_df['sulphates'].mean()\n",
    "wine_sulphates_mean_quality = wine_df.groupby('quality')['sulphates'].mean()\n",
    "\n",
    "print('Media del pH totale:', wine_sulphates_mean)\n",
    "print('Media del pH per', wine_sulphates_mean_quality)\n",
    "print(\"\\nDifferenza pH per tipo di vino:\\n\", wine_df.groupby('type')['sulphates'].mean())"
   ]
  },
  {
   "cell_type": "code",
   "execution_count": null,
   "id": "03999b33-dfe3-45a9-bf2b-513bcad2c60d",
   "metadata": {},
   "outputs": [],
   "source": [
    "#esercizio_5\n",
    "#Nei beginner_datasets, il file boston.csv contiene il Boston Housing Dataset, \n",
    "#che deriva dalle informazioni raccolte dal Census Service degli Stati Uniti sulle abitazioni nell'area di Boston.\n",
    "#Di seguito vengono descritte le colonne del dataset:\n",
    "#CRIM -tasso di criminalità pro capite per città\n",
    "#ZN - proporzione di terreni residenziali suddivisi in zone per lotti superiori a 25.000 piedi quadrati.\n",
    "#INDUS - percentuale di acri di attività commerciali non al dettaglio per città.\n",
    "#CHAS -variabile dummy del fiume Charles (1 se il tratto costeggia il fiume; 0 altrimenti)\n",
    "#NOX -concentrazione di ossidi di azoto (parti per 10 milioni).\n",
    "#RM -numero medio di stanze per abitazione\n",
    "#AGE -proporzione di unità abitative occupate da proprietari costruite prima del 1940\n",
    "#DIS - distanze ponderate da cinque centri occupazionali di Boston\n",
    "#RAD -indice di accessibilità alle autostrade radiali\n",
    "#TAX -aliquota dell'imposta fondiaria sul valore pieno per 10.000 dollari\n",
    "#PTRATIO - rapporto alunni-insegnanti per città\n",
    "#BLACK -la percentuale di neri per città\n",
    "#LSTAT - % di popolazione di condizione più bassa \n",
    "#MEDV -Valore mediano delle case, espresso in migliaia di dollari\n",
    "#ToDo\n",
    "#La media del prezzo delle case cambia a seconda della distanza dal fiume Charles?\n",
    "#Si nota una correlazione tra il tasso di criminalità e il valore delle abitazioni?\n",
    "#Come si può spiegare il risultato?\n",
    "#Qual è la media del numero di stanze rispetto al rapporto alunni-insegnanti? \n",
    "#E del valore delle case? Appare esserci una qualche correlazione? Come si può spiegare il risultato?\n",
    "#Rispetto all'accessibilità alle autostrade, cambia qualcosa la media delle età delle abitazioni? \n",
    "#E del numero di stanze? E delle tasse?"
   ]
  },
  {
   "cell_type": "code",
   "execution_count": null,
   "id": "a1554d31-3056-42b3-95b1-3c676a6992b8",
   "metadata": {},
   "outputs": [],
   "source": [
    "boston_df=pd.read_csv(\"C:/Users/Marco/Desktop/Epicode/Python/datasets/datasets/beginner_datasets/boston.csv\")"
   ]
  },
  {
   "cell_type": "code",
   "execution_count": null,
   "id": "657e8e8e-7d54-4bda-9886-d73fb8f4ee16",
   "metadata": {},
   "outputs": [],
   "source": [
    "print('Prezzo medio delle case a seconda della distanza dal fiume Charles:')\n",
    "print(boston_df.groupby('chas')['medv'].mean())"
   ]
  },
  {
   "cell_type": "code",
   "execution_count": null,
   "id": "69489fa6-a74e-470f-ac3b-41cdfb5f25fe",
   "metadata": {},
   "outputs": [],
   "source": [
    "from pandas.plotting import scatter_matrix\n",
    "\n",
    "display(boston_df[['crim', 'medv']].corr())\n",
    "\n",
    "_ = scatter_matrix(boston_df[['crim', 'medv']])\n",
    "print(\"Il tasso di criminalità e il prezzo medio delle case presentano una discreta correlazione negativa.\")\n",
    "print(\"Al diminuire del prezzo medio aumenta il tasso di criminalità.\")"
   ]
  },
  {
   "cell_type": "code",
   "execution_count": null,
   "id": "f93418d8-c97f-4ba4-b601-6d9b9241cf57",
   "metadata": {},
   "outputs": [],
   "source": [
    "print('Media del numero di stanze rispetto al rapporto alunni-insegnanti:')\n",
    "boston_df.groupby('ptratio')['rm'].mean()"
   ]
  },
  {
   "cell_type": "code",
   "execution_count": null,
   "id": "5f09df28-040a-4474-9c67-addbdf165ff5",
   "metadata": {},
   "outputs": [],
   "source": [
    "print('Media del numero di stanze rispetto al valore delle case:')\n",
    "boston_df.groupby('medv')['rm'].mean()"
   ]
  },
  {
   "cell_type": "code",
   "execution_count": null,
   "id": "20aa0868-b1d3-42f5-ba51-1a8865572e79",
   "metadata": {},
   "outputs": [],
   "source": [
    "print('Correlazione tra numero di stanze e valore delle case:')\n",
    "boston_df_medv_rm = pd.DataFrame(boston_df.groupby(['medv'])['rm'].mean()).reset_index()\n",
    "\n",
    "display(boston_df_medv_rm.corr())\n",
    "\n",
    "_ = scatter_matrix(boston_df_medv_rm)\n",
    "print(\"La correlazione è positiva, all'aumentare del valore medio delle case aumenta il numero di stanze.\")"
   ]
  },
  {
   "cell_type": "code",
   "execution_count": null,
   "id": "6368a99a-b273-4f16-bd66-d11cbadd2d3f",
   "metadata": {},
   "outputs": [],
   "source": [
    "import matplotlib.pyplot as plt\n",
    "print('Media del numero di stanze rispetto al valore delle case:')\n",
    "boston_df_rad_stats = pd.DataFrame(boston_df.groupby(['rad'])[['rm', 'age', 'tax']].mean()).reset_index()\n",
    "\n",
    "display(boston_df_rad_stats.corr())\n",
    "\n",
    "display(boston_df_rad_stats)\n",
    "\n",
    "# normalizzazione min-max dei dati per plot degli andamenti di age e tax\n",
    "boston_df_rad_stats_norm = (boston_df_rad_stats[['age', 'tax']] - boston_df_rad_stats[['age', 'tax']].min()) / (boston_df_rad_stats[['age', 'tax']].max() - boston_df_rad_stats[['age', 'tax']].min())\n",
    "boston_df_rad_stats_norm['rad'] = boston_df_rad_stats['rad']\n",
    "boston_df_rad_stats_norm.plot(x='rad', y=['age', 'tax'])\n",
    "plt.show()"
   ]
  },
  {
   "cell_type": "code",
   "execution_count": null,
   "id": "d4e6aadd-5aaa-4b46-b4fb-0a70caaadfcb",
   "metadata": {},
   "outputs": [],
   "source": [
    "#esercizio_6\n",
    "#Abbiamo un DataFrame di dipendenti:\n",
    "#employees_df = pd.DataFrame({ 'employee_id': [101, 102, 103, 104, 105], 'name': ['Alice', 'Bob', 'Charlie', 'David', 'Emma'], 'department_id': [1, 2, 1, 2, 3] })\n",
    "#departments_df = pd.DataFrame({ 'department_id': [1, 2, 3], 'department_name': ['HR', 'IT', 'Finance'], 'location': ['New York', 'San Francisco', 'Chicago'] })\n",
    "#ToDo\n",
    "#Unire questi DataFrame in base alla colonna comune department_id, \n",
    "#in modo da avere nel risultato informazioni sia sui dipendenti che sui dipartimenti,\n",
    "#usando la funzione .merge()\n",
    "#Per ogni DataFrame, trasformare la colonna department_id nell'indice, \n",
    "#facendo in modo che la modifica sia permanente; poi unire i due dataset mediante il metodo .join()\n",
    "#Ci sono differenze nel risultato? Quali? Perché?"
   ]
  },
  {
   "cell_type": "code",
   "execution_count": null,
   "id": "a18d013c-e20e-4628-8d77-c516502a1494",
   "metadata": {},
   "outputs": [],
   "source": [
    "employees_df = pd.DataFrame({ 'employee_id': [101, 102, 103, 104, 105], 'name': ['Alice', 'Bob', 'Charlie', 'David', 'Emma'], 'department_id': [1, 2, 1, 2, 3] })\n",
    "departments_df = pd.DataFrame({ 'department_id': [1, 2, 3], 'department_name': ['HR', 'IT', 'Finance'], 'location': ['New York', 'San Francisco', 'Chicago'] })\n",
    "\n",
    "pd.merge(left = employees_df, right = departments_df, how = 'left', on = 'department_id')"
   ]
  },
  {
   "cell_type": "code",
   "execution_count": null,
   "id": "317d74d9-dbbf-46ed-a257-c1574b562ce4",
   "metadata": {},
   "outputs": [],
   "source": [
    "departments_df = departments_df.set_index('department_id')\n",
    "employees_df = employees_df.set_index('department_id')\n",
    "\n",
    "employees_df.join(departments_df)"
   ]
  },
  {
   "cell_type": "code",
   "execution_count": null,
   "id": "ca18a1d8-9da3-4607-95db-6735d8db7874",
   "metadata": {},
   "outputs": [],
   "source": [
    "#esercizio_7\n",
    "#Dal database AdventureWorksDW importiamo le tabelle dimemployee e dimemployeesalesterritory come DataFrame\n",
    "#Effettuiamo un join tra i due DataFrame usando le colonne EmployeeKey\n",
    "#Controlliamo la dimensione del DataFrame risultante: è quella attesa?\n",
    "#Importiamo ora la tabella dimsalesterritory ed effettuiamo un join tra questa e \n",
    "#il DataFrame risultante della join precedente, usando le colonne SalesTerritoryKey\n",
    "#Su questo DataFrame contare quanti dipendenti ci sono per ogni paese (country) e per ogni regione (region)\n",
    "#Valutiamo la media del BaseRate per ogni paese: ci sono differenze?"
   ]
  },
  {
   "cell_type": "code",
   "execution_count": null,
   "id": "a6342504-d47b-4803-959f-5a9a4161efd4",
   "metadata": {},
   "outputs": [],
   "source": [
    "from pathlib import Path\n",
    "import os\n",
    "\n",
    "path = str(Path(os.path.abspath(\"\")).parents[0]) + '\\\\' + \"adventureworks_connection.ipynb\"\n",
    "path = path.replace('\\\\', '/')\n",
    "%run {path}"
   ]
  },
  {
   "cell_type": "code",
   "execution_count": null,
   "id": "382b1315-7cba-40e6-873b-5f90afd19765",
   "metadata": {},
   "outputs": [],
   "source": [
    "adw_dimemployee = pd.read_sql('SELECT * FROM dimemployee', db_engine)\n",
    "adw_dimemployee_st = pd.read_sql('SELECT * FROM dimemployeesalesterritory', db_engine)\n",
    "\n",
    "print('adw_dimemployee shape:', adw_dimemployee.shape)\n",
    "print('adw_dimemployee columns:', adw_dimemployee.columns)\n",
    "print('adw_dimemployee_st shape:', adw_dimemployee_st.shape)\n",
    "print('adw_dimemployee_st columns:', adw_dimemployee_st.columns)"
   ]
  },
  {
   "cell_type": "code",
   "execution_count": null,
   "id": "68a0571d-fed9-4a45-bb6c-77e9c42d07a4",
   "metadata": {},
   "outputs": [],
   "source": [
    "adw_dimemployee = adw_dimemployee.set_index('EmployeeKey')\n",
    "adw_dimemployee_st = adw_dimemployee_st.set_index('EmployeeKey')"
   ]
  },
  {
   "cell_type": "code",
   "execution_count": null,
   "id": "ca724852-c8d2-4f5f-9d46-b7adc44dee43",
   "metadata": {},
   "outputs": [],
   "source": [
    "adw_dimemployee_join = adw_dimemployee_st.join(adw_dimemployee)\n",
    "\n",
    "print('join shape:', adw_dimemployee_join.shape)\n",
    "print('join columns:', adw_dimemployee_join.columns)\n",
    "adw_dimemployee_join.sample(5)"
   ]
  },
  {
   "cell_type": "code",
   "execution_count": null,
   "id": "686cba7a-c468-41f9-b6f8-1fe6a0f41d25",
   "metadata": {},
   "outputs": [],
   "source": [
    "adw_dimsalesterritory = pd.read_sql('SELECT * FROM dimsalesterritory', db_engine)\n",
    "\n",
    "print('adw_dimsalesterritory shape:', adw_dimsalesterritory.shape)\n",
    "print('adw_dimsalesterritory columns:', adw_dimsalesterritory.columns)"
   ]
  },
  {
   "cell_type": "code",
   "execution_count": null,
   "id": "88b25fca-d390-4d83-816b-645053467d78",
   "metadata": {},
   "outputs": [],
   "source": [
    "adw_dimemployee_st_join = pd.merge(left = adw_dimemployee_join, right = adw_dimsalesterritory, on = 'SalesTerritoryKey', how = 'left')"
   ]
  },
  {
   "cell_type": "code",
   "execution_count": null,
   "id": "6349e64a-190f-466c-880a-1ac881a03ac6",
   "metadata": {},
   "outputs": [],
   "source": [
    "adw_dimemployee_st_join.shape"
   ]
  },
  {
   "cell_type": "code",
   "execution_count": null,
   "id": "804b8455-1f38-4cd0-8552-ebc49ee5c9a0",
   "metadata": {},
   "outputs": [],
   "source": [
    "adw_dimemployee_st_join.groupby('SalesTerritoryRegion').count()"
   ]
  }
 ],
 "metadata": {
  "kernelspec": {
   "display_name": "Python [conda env:base] *",
   "language": "python",
   "name": "conda-base-py"
  },
  "language_info": {
   "codemirror_mode": {
    "name": "ipython",
    "version": 3
   },
   "file_extension": ".py",
   "mimetype": "text/x-python",
   "name": "python",
   "nbconvert_exporter": "python",
   "pygments_lexer": "ipython3",
   "version": "3.12.7"
  }
 },
 "nbformat": 4,
 "nbformat_minor": 5
}
