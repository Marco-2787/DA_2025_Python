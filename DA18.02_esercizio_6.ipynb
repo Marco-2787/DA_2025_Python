{
 "cells": [
  {
   "cell_type": "code",
   "execution_count": 1,
   "id": "6c44c8cf-4f9c-4d13-b93b-a03c67db15f8",
   "metadata": {},
   "outputs": [],
   "source": [
    "import pandas as pd\n",
    "import seaborn as sns"
   ]
  },
  {
   "cell_type": "code",
   "execution_count": null,
   "id": "f34f89a3-853f-44f1-8d65-78f0aa0444ea",
   "metadata": {},
   "outputs": [],
   "source": [
    "#Dai beginner_dataset carichiamo in un DataFrame il file automobile.csv:\n",
    "\n",
    "#Ci sono valori nulli? Dove? Quanti?\n",
    "#Quali righe hanno un valore nullo nella colonna num-of-doors?\n",
    "#Esaminando i dati nel dataset, cerchiamo una logica per sostituire i valori nulli nella colonna num-of-doors"
   ]
  },
  {
   "cell_type": "code",
   "execution_count": 2,
   "id": "03cef419-94e4-428c-9385-673eddacabe2",
   "metadata": {},
   "outputs": [
    {
     "data": {
      "text/html": [
       "<div>\n",
       "<style scoped>\n",
       "    .dataframe tbody tr th:only-of-type {\n",
       "        vertical-align: middle;\n",
       "    }\n",
       "\n",
       "    .dataframe tbody tr th {\n",
       "        vertical-align: top;\n",
       "    }\n",
       "\n",
       "    .dataframe thead th {\n",
       "        text-align: right;\n",
       "    }\n",
       "</style>\n",
       "<table border=\"1\" class=\"dataframe\">\n",
       "  <thead>\n",
       "    <tr style=\"text-align: right;\">\n",
       "      <th></th>\n",
       "      <th>symboling</th>\n",
       "      <th>normalized-losses</th>\n",
       "      <th>make</th>\n",
       "      <th>fuel-type</th>\n",
       "      <th>aspiration</th>\n",
       "      <th>num-of-doors</th>\n",
       "      <th>body-style</th>\n",
       "      <th>drive-wheels</th>\n",
       "      <th>engine-location</th>\n",
       "      <th>wheel-base</th>\n",
       "      <th>...</th>\n",
       "      <th>engine-size</th>\n",
       "      <th>fuel-system</th>\n",
       "      <th>bore</th>\n",
       "      <th>stroke</th>\n",
       "      <th>compression-ratio</th>\n",
       "      <th>horsepower</th>\n",
       "      <th>peak-rpm</th>\n",
       "      <th>city-mpg</th>\n",
       "      <th>highway-mpg</th>\n",
       "      <th>price</th>\n",
       "    </tr>\n",
       "  </thead>\n",
       "  <tbody>\n",
       "    <tr>\n",
       "      <th>0</th>\n",
       "      <td>3</td>\n",
       "      <td>NaN</td>\n",
       "      <td>alfa-romero</td>\n",
       "      <td>gas</td>\n",
       "      <td>std</td>\n",
       "      <td>two</td>\n",
       "      <td>convertible</td>\n",
       "      <td>rwd</td>\n",
       "      <td>front</td>\n",
       "      <td>88.6</td>\n",
       "      <td>...</td>\n",
       "      <td>130</td>\n",
       "      <td>mpfi</td>\n",
       "      <td>3.47</td>\n",
       "      <td>2.68</td>\n",
       "      <td>9.0</td>\n",
       "      <td>111</td>\n",
       "      <td>5000</td>\n",
       "      <td>21</td>\n",
       "      <td>27</td>\n",
       "      <td>13495</td>\n",
       "    </tr>\n",
       "    <tr>\n",
       "      <th>1</th>\n",
       "      <td>3</td>\n",
       "      <td>NaN</td>\n",
       "      <td>alfa-romero</td>\n",
       "      <td>gas</td>\n",
       "      <td>std</td>\n",
       "      <td>two</td>\n",
       "      <td>convertible</td>\n",
       "      <td>rwd</td>\n",
       "      <td>front</td>\n",
       "      <td>88.6</td>\n",
       "      <td>...</td>\n",
       "      <td>130</td>\n",
       "      <td>mpfi</td>\n",
       "      <td>3.47</td>\n",
       "      <td>2.68</td>\n",
       "      <td>9.0</td>\n",
       "      <td>111</td>\n",
       "      <td>5000</td>\n",
       "      <td>21</td>\n",
       "      <td>27</td>\n",
       "      <td>16500</td>\n",
       "    </tr>\n",
       "    <tr>\n",
       "      <th>2</th>\n",
       "      <td>1</td>\n",
       "      <td>NaN</td>\n",
       "      <td>alfa-romero</td>\n",
       "      <td>gas</td>\n",
       "      <td>std</td>\n",
       "      <td>two</td>\n",
       "      <td>hatchback</td>\n",
       "      <td>rwd</td>\n",
       "      <td>front</td>\n",
       "      <td>94.5</td>\n",
       "      <td>...</td>\n",
       "      <td>152</td>\n",
       "      <td>mpfi</td>\n",
       "      <td>2.68</td>\n",
       "      <td>3.47</td>\n",
       "      <td>9.0</td>\n",
       "      <td>154</td>\n",
       "      <td>5000</td>\n",
       "      <td>19</td>\n",
       "      <td>26</td>\n",
       "      <td>16500</td>\n",
       "    </tr>\n",
       "    <tr>\n",
       "      <th>3</th>\n",
       "      <td>2</td>\n",
       "      <td>164.0</td>\n",
       "      <td>audi</td>\n",
       "      <td>gas</td>\n",
       "      <td>std</td>\n",
       "      <td>four</td>\n",
       "      <td>sedan</td>\n",
       "      <td>fwd</td>\n",
       "      <td>front</td>\n",
       "      <td>99.8</td>\n",
       "      <td>...</td>\n",
       "      <td>109</td>\n",
       "      <td>mpfi</td>\n",
       "      <td>3.19</td>\n",
       "      <td>3.4</td>\n",
       "      <td>10.0</td>\n",
       "      <td>102</td>\n",
       "      <td>5500</td>\n",
       "      <td>24</td>\n",
       "      <td>30</td>\n",
       "      <td>13950</td>\n",
       "    </tr>\n",
       "    <tr>\n",
       "      <th>4</th>\n",
       "      <td>2</td>\n",
       "      <td>164.0</td>\n",
       "      <td>audi</td>\n",
       "      <td>gas</td>\n",
       "      <td>std</td>\n",
       "      <td>four</td>\n",
       "      <td>sedan</td>\n",
       "      <td>4wd</td>\n",
       "      <td>front</td>\n",
       "      <td>99.4</td>\n",
       "      <td>...</td>\n",
       "      <td>136</td>\n",
       "      <td>mpfi</td>\n",
       "      <td>3.19</td>\n",
       "      <td>3.4</td>\n",
       "      <td>8.0</td>\n",
       "      <td>115</td>\n",
       "      <td>5500</td>\n",
       "      <td>18</td>\n",
       "      <td>22</td>\n",
       "      <td>17450</td>\n",
       "    </tr>\n",
       "    <tr>\n",
       "      <th>...</th>\n",
       "      <td>...</td>\n",
       "      <td>...</td>\n",
       "      <td>...</td>\n",
       "      <td>...</td>\n",
       "      <td>...</td>\n",
       "      <td>...</td>\n",
       "      <td>...</td>\n",
       "      <td>...</td>\n",
       "      <td>...</td>\n",
       "      <td>...</td>\n",
       "      <td>...</td>\n",
       "      <td>...</td>\n",
       "      <td>...</td>\n",
       "      <td>...</td>\n",
       "      <td>...</td>\n",
       "      <td>...</td>\n",
       "      <td>...</td>\n",
       "      <td>...</td>\n",
       "      <td>...</td>\n",
       "      <td>...</td>\n",
       "      <td>...</td>\n",
       "    </tr>\n",
       "    <tr>\n",
       "      <th>197</th>\n",
       "      <td>-1</td>\n",
       "      <td>95.0</td>\n",
       "      <td>volvo</td>\n",
       "      <td>gas</td>\n",
       "      <td>turbo</td>\n",
       "      <td>four</td>\n",
       "      <td>sedan</td>\n",
       "      <td>rwd</td>\n",
       "      <td>front</td>\n",
       "      <td>109.1</td>\n",
       "      <td>...</td>\n",
       "      <td>141</td>\n",
       "      <td>mpfi</td>\n",
       "      <td>3.78</td>\n",
       "      <td>3.15</td>\n",
       "      <td>8.7</td>\n",
       "      <td>160</td>\n",
       "      <td>5300</td>\n",
       "      <td>19</td>\n",
       "      <td>25</td>\n",
       "      <td>19045</td>\n",
       "    </tr>\n",
       "    <tr>\n",
       "      <th>198</th>\n",
       "      <td>-1</td>\n",
       "      <td>95.0</td>\n",
       "      <td>volvo</td>\n",
       "      <td>gas</td>\n",
       "      <td>std</td>\n",
       "      <td>four</td>\n",
       "      <td>sedan</td>\n",
       "      <td>rwd</td>\n",
       "      <td>front</td>\n",
       "      <td>109.1</td>\n",
       "      <td>...</td>\n",
       "      <td>173</td>\n",
       "      <td>mpfi</td>\n",
       "      <td>3.58</td>\n",
       "      <td>2.87</td>\n",
       "      <td>8.8</td>\n",
       "      <td>134</td>\n",
       "      <td>5500</td>\n",
       "      <td>18</td>\n",
       "      <td>23</td>\n",
       "      <td>21485</td>\n",
       "    </tr>\n",
       "    <tr>\n",
       "      <th>199</th>\n",
       "      <td>-1</td>\n",
       "      <td>95.0</td>\n",
       "      <td>volvo</td>\n",
       "      <td>diesel</td>\n",
       "      <td>turbo</td>\n",
       "      <td>four</td>\n",
       "      <td>sedan</td>\n",
       "      <td>rwd</td>\n",
       "      <td>front</td>\n",
       "      <td>109.1</td>\n",
       "      <td>...</td>\n",
       "      <td>145</td>\n",
       "      <td>idi</td>\n",
       "      <td>3.01</td>\n",
       "      <td>3.4</td>\n",
       "      <td>23.0</td>\n",
       "      <td>106</td>\n",
       "      <td>4800</td>\n",
       "      <td>26</td>\n",
       "      <td>27</td>\n",
       "      <td>22470</td>\n",
       "    </tr>\n",
       "    <tr>\n",
       "      <th>200</th>\n",
       "      <td>-1</td>\n",
       "      <td>95.0</td>\n",
       "      <td>volvo</td>\n",
       "      <td>gas</td>\n",
       "      <td>turbo</td>\n",
       "      <td>four</td>\n",
       "      <td>sedan</td>\n",
       "      <td>rwd</td>\n",
       "      <td>front</td>\n",
       "      <td>109.1</td>\n",
       "      <td>...</td>\n",
       "      <td>141</td>\n",
       "      <td>mpfi</td>\n",
       "      <td>3.78</td>\n",
       "      <td>3.15</td>\n",
       "      <td>9.5</td>\n",
       "      <td>114</td>\n",
       "      <td>5400</td>\n",
       "      <td>19</td>\n",
       "      <td>25</td>\n",
       "      <td>22625</td>\n",
       "    </tr>\n",
       "    <tr>\n",
       "      <th>201</th>\n",
       "      <td>-1</td>\n",
       "      <td>95.0</td>\n",
       "      <td>volvo</td>\n",
       "      <td>gas</td>\n",
       "      <td>turbo</td>\n",
       "      <td>four</td>\n",
       "      <td>sedan</td>\n",
       "      <td>rwd</td>\n",
       "      <td>front</td>\n",
       "      <td>109.1</td>\n",
       "      <td>...</td>\n",
       "      <td>141</td>\n",
       "      <td>mpfi</td>\n",
       "      <td>3.78</td>\n",
       "      <td>3.15</td>\n",
       "      <td>9.5</td>\n",
       "      <td>114</td>\n",
       "      <td>5400</td>\n",
       "      <td>19</td>\n",
       "      <td>25</td>\n",
       "      <td>22625</td>\n",
       "    </tr>\n",
       "  </tbody>\n",
       "</table>\n",
       "<p>202 rows × 26 columns</p>\n",
       "</div>"
      ],
      "text/plain": [
       "     symboling  normalized-losses         make fuel-type aspiration  \\\n",
       "0            3                NaN  alfa-romero       gas        std   \n",
       "1            3                NaN  alfa-romero       gas        std   \n",
       "2            1                NaN  alfa-romero       gas        std   \n",
       "3            2              164.0         audi       gas        std   \n",
       "4            2              164.0         audi       gas        std   \n",
       "..         ...                ...          ...       ...        ...   \n",
       "197         -1               95.0        volvo       gas      turbo   \n",
       "198         -1               95.0        volvo       gas        std   \n",
       "199         -1               95.0        volvo    diesel      turbo   \n",
       "200         -1               95.0        volvo       gas      turbo   \n",
       "201         -1               95.0        volvo       gas      turbo   \n",
       "\n",
       "    num-of-doors   body-style drive-wheels engine-location  wheel-base  ...  \\\n",
       "0            two  convertible          rwd           front        88.6  ...   \n",
       "1            two  convertible          rwd           front        88.6  ...   \n",
       "2            two    hatchback          rwd           front        94.5  ...   \n",
       "3           four        sedan          fwd           front        99.8  ...   \n",
       "4           four        sedan          4wd           front        99.4  ...   \n",
       "..           ...          ...          ...             ...         ...  ...   \n",
       "197         four        sedan          rwd           front       109.1  ...   \n",
       "198         four        sedan          rwd           front       109.1  ...   \n",
       "199         four        sedan          rwd           front       109.1  ...   \n",
       "200         four        sedan          rwd           front       109.1  ...   \n",
       "201         four        sedan          rwd           front       109.1  ...   \n",
       "\n",
       "     engine-size  fuel-system  bore  stroke compression-ratio horsepower  \\\n",
       "0            130         mpfi  3.47    2.68               9.0        111   \n",
       "1            130         mpfi  3.47    2.68               9.0        111   \n",
       "2            152         mpfi  2.68    3.47               9.0        154   \n",
       "3            109         mpfi  3.19     3.4              10.0        102   \n",
       "4            136         mpfi  3.19     3.4               8.0        115   \n",
       "..           ...          ...   ...     ...               ...        ...   \n",
       "197          141         mpfi  3.78    3.15               8.7        160   \n",
       "198          173         mpfi  3.58    2.87               8.8        134   \n",
       "199          145          idi  3.01     3.4              23.0        106   \n",
       "200          141         mpfi  3.78    3.15               9.5        114   \n",
       "201          141         mpfi  3.78    3.15               9.5        114   \n",
       "\n",
       "     peak-rpm city-mpg highway-mpg  price  \n",
       "0        5000       21          27  13495  \n",
       "1        5000       21          27  16500  \n",
       "2        5000       19          26  16500  \n",
       "3        5500       24          30  13950  \n",
       "4        5500       18          22  17450  \n",
       "..        ...      ...         ...    ...  \n",
       "197      5300       19          25  19045  \n",
       "198      5500       18          23  21485  \n",
       "199      4800       26          27  22470  \n",
       "200      5400       19          25  22625  \n",
       "201      5400       19          25  22625  \n",
       "\n",
       "[202 rows x 26 columns]"
      ]
     },
     "execution_count": 2,
     "metadata": {},
     "output_type": "execute_result"
    }
   ],
   "source": [
    "auto = pd.read_csv(\"C:/Users/Marco/Desktop/Epicode/Python/datasets/datasets/beginner_datasets/automobile.csv\")\n",
    "auto"
   ]
  },
  {
   "cell_type": "code",
   "execution_count": 3,
   "id": "73591a53-3f1c-4aa9-9358-562ddbfe8f0a",
   "metadata": {},
   "outputs": [
    {
     "data": {
      "text/plain": [
       "symboling             0\n",
       "normalized-losses    37\n",
       "make                  0\n",
       "fuel-type             0\n",
       "aspiration            0\n",
       "num-of-doors          2\n",
       "body-style            0\n",
       "drive-wheels          0\n",
       "engine-location       0\n",
       "wheel-base            0\n",
       "length                0\n",
       "width                 0\n",
       "height                0\n",
       "curb-weight           0\n",
       "engine-type           0\n",
       "num-of-cylinders      0\n",
       "engine-size           0\n",
       "fuel-system           0\n",
       "bore                  0\n",
       "stroke                0\n",
       "compression-ratio     0\n",
       "horsepower            0\n",
       "peak-rpm              0\n",
       "city-mpg              0\n",
       "highway-mpg           0\n",
       "price                 0\n",
       "dtype: int64"
      ]
     },
     "execution_count": 3,
     "metadata": {},
     "output_type": "execute_result"
    }
   ],
   "source": [
    "auto.isna().sum()"
   ]
  },
  {
   "cell_type": "code",
   "execution_count": 4,
   "id": "7d85cb23-2afc-4679-841a-32cd643facb3",
   "metadata": {},
   "outputs": [
    {
     "data": {
      "text/html": [
       "<div>\n",
       "<style scoped>\n",
       "    .dataframe tbody tr th:only-of-type {\n",
       "        vertical-align: middle;\n",
       "    }\n",
       "\n",
       "    .dataframe tbody tr th {\n",
       "        vertical-align: top;\n",
       "    }\n",
       "\n",
       "    .dataframe thead th {\n",
       "        text-align: right;\n",
       "    }\n",
       "</style>\n",
       "<table border=\"1\" class=\"dataframe\">\n",
       "  <thead>\n",
       "    <tr style=\"text-align: right;\">\n",
       "      <th></th>\n",
       "      <th>symboling</th>\n",
       "      <th>normalized-losses</th>\n",
       "      <th>make</th>\n",
       "      <th>fuel-type</th>\n",
       "      <th>aspiration</th>\n",
       "      <th>num-of-doors</th>\n",
       "      <th>body-style</th>\n",
       "      <th>drive-wheels</th>\n",
       "      <th>engine-location</th>\n",
       "      <th>wheel-base</th>\n",
       "      <th>...</th>\n",
       "      <th>engine-size</th>\n",
       "      <th>fuel-system</th>\n",
       "      <th>bore</th>\n",
       "      <th>stroke</th>\n",
       "      <th>compression-ratio</th>\n",
       "      <th>horsepower</th>\n",
       "      <th>peak-rpm</th>\n",
       "      <th>city-mpg</th>\n",
       "      <th>highway-mpg</th>\n",
       "      <th>price</th>\n",
       "    </tr>\n",
       "  </thead>\n",
       "  <tbody>\n",
       "    <tr>\n",
       "      <th>26</th>\n",
       "      <td>1</td>\n",
       "      <td>148.0</td>\n",
       "      <td>dodge</td>\n",
       "      <td>gas</td>\n",
       "      <td>turbo</td>\n",
       "      <td>NaN</td>\n",
       "      <td>sedan</td>\n",
       "      <td>fwd</td>\n",
       "      <td>front</td>\n",
       "      <td>93.7</td>\n",
       "      <td>...</td>\n",
       "      <td>98</td>\n",
       "      <td>mpfi</td>\n",
       "      <td>3.03</td>\n",
       "      <td>3.39</td>\n",
       "      <td>7.6</td>\n",
       "      <td>102</td>\n",
       "      <td>5500</td>\n",
       "      <td>24</td>\n",
       "      <td>30</td>\n",
       "      <td>8558</td>\n",
       "    </tr>\n",
       "    <tr>\n",
       "      <th>60</th>\n",
       "      <td>0</td>\n",
       "      <td>NaN</td>\n",
       "      <td>mazda</td>\n",
       "      <td>diesel</td>\n",
       "      <td>std</td>\n",
       "      <td>NaN</td>\n",
       "      <td>sedan</td>\n",
       "      <td>fwd</td>\n",
       "      <td>front</td>\n",
       "      <td>98.8</td>\n",
       "      <td>...</td>\n",
       "      <td>122</td>\n",
       "      <td>idi</td>\n",
       "      <td>3.39</td>\n",
       "      <td>3.39</td>\n",
       "      <td>22.7</td>\n",
       "      <td>64</td>\n",
       "      <td>4650</td>\n",
       "      <td>36</td>\n",
       "      <td>42</td>\n",
       "      <td>10795</td>\n",
       "    </tr>\n",
       "  </tbody>\n",
       "</table>\n",
       "<p>2 rows × 26 columns</p>\n",
       "</div>"
      ],
      "text/plain": [
       "    symboling  normalized-losses   make fuel-type aspiration num-of-doors  \\\n",
       "26          1              148.0  dodge       gas      turbo          NaN   \n",
       "60          0                NaN  mazda    diesel        std          NaN   \n",
       "\n",
       "   body-style drive-wheels engine-location  wheel-base  ...  engine-size  \\\n",
       "26      sedan          fwd           front        93.7  ...           98   \n",
       "60      sedan          fwd           front        98.8  ...          122   \n",
       "\n",
       "    fuel-system  bore  stroke compression-ratio horsepower  peak-rpm city-mpg  \\\n",
       "26         mpfi  3.03    3.39               7.6        102      5500       24   \n",
       "60          idi  3.39    3.39              22.7         64      4650       36   \n",
       "\n",
       "   highway-mpg  price  \n",
       "26          30   8558  \n",
       "60          42  10795  \n",
       "\n",
       "[2 rows x 26 columns]"
      ]
     },
     "execution_count": 4,
     "metadata": {},
     "output_type": "execute_result"
    }
   ],
   "source": [
    "filtro_nulli = auto.loc[:, \"num-of-doors\"].isna()\n",
    "auto.loc[filtro_nulli]"
   ]
  },
  {
   "cell_type": "code",
   "execution_count": 5,
   "id": "3d57b3d6-9694-461f-a025-6cdb7ce11ac1",
   "metadata": {},
   "outputs": [
    {
     "data": {
      "text/plain": [
       "fuel-type  aspiration  num-of-doors\n",
       "diesel     std         four             2\n",
       "                       two              2\n",
       "           turbo       four             3\n",
       "gas        std         four            37\n",
       "                       two              6\n",
       "           turbo       four             3\n",
       "Name: count, dtype: int64"
      ]
     },
     "execution_count": 5,
     "metadata": {},
     "output_type": "execute_result"
    }
   ],
   "source": [
    "filtro = (auto[\"body-style\"]==\"sedan\") & (auto[\"drive-wheels\"]==\"fwd\") & (auto[\"engine-location\"]==\"front\")\n",
    "auto.loc[filtro].groupby([\"fuel-type\", \"aspiration\"])[\"num-of-doors\"].value_counts()"
   ]
  },
  {
   "cell_type": "code",
   "execution_count": 6,
   "id": "7938dcf5-7ff1-4526-bdbc-f6e303b7db91",
   "metadata": {},
   "outputs": [],
   "source": [
    "auto.loc[:, \"num-of-doors\"] = auto[\"num-of-doors\"].fillna(\"four\")"
   ]
  },
  {
   "cell_type": "code",
   "execution_count": 7,
   "id": "a4261180-e1e1-4da4-b345-d37824f7310e",
   "metadata": {},
   "outputs": [
    {
     "data": {
      "text/html": [
       "<div>\n",
       "<style scoped>\n",
       "    .dataframe tbody tr th:only-of-type {\n",
       "        vertical-align: middle;\n",
       "    }\n",
       "\n",
       "    .dataframe tbody tr th {\n",
       "        vertical-align: top;\n",
       "    }\n",
       "\n",
       "    .dataframe thead th {\n",
       "        text-align: right;\n",
       "    }\n",
       "</style>\n",
       "<table border=\"1\" class=\"dataframe\">\n",
       "  <thead>\n",
       "    <tr style=\"text-align: right;\">\n",
       "      <th></th>\n",
       "      <th>symboling</th>\n",
       "      <th>normalized-losses</th>\n",
       "      <th>make</th>\n",
       "      <th>fuel-type</th>\n",
       "      <th>aspiration</th>\n",
       "      <th>num-of-doors</th>\n",
       "      <th>body-style</th>\n",
       "      <th>drive-wheels</th>\n",
       "      <th>engine-location</th>\n",
       "      <th>wheel-base</th>\n",
       "      <th>...</th>\n",
       "      <th>engine-size</th>\n",
       "      <th>fuel-system</th>\n",
       "      <th>bore</th>\n",
       "      <th>stroke</th>\n",
       "      <th>compression-ratio</th>\n",
       "      <th>horsepower</th>\n",
       "      <th>peak-rpm</th>\n",
       "      <th>city-mpg</th>\n",
       "      <th>highway-mpg</th>\n",
       "      <th>price</th>\n",
       "    </tr>\n",
       "  </thead>\n",
       "  <tbody>\n",
       "    <tr>\n",
       "      <th>26</th>\n",
       "      <td>1</td>\n",
       "      <td>148.0</td>\n",
       "      <td>dodge</td>\n",
       "      <td>gas</td>\n",
       "      <td>turbo</td>\n",
       "      <td>four</td>\n",
       "      <td>sedan</td>\n",
       "      <td>fwd</td>\n",
       "      <td>front</td>\n",
       "      <td>93.7</td>\n",
       "      <td>...</td>\n",
       "      <td>98</td>\n",
       "      <td>mpfi</td>\n",
       "      <td>3.03</td>\n",
       "      <td>3.39</td>\n",
       "      <td>7.6</td>\n",
       "      <td>102</td>\n",
       "      <td>5500</td>\n",
       "      <td>24</td>\n",
       "      <td>30</td>\n",
       "      <td>8558</td>\n",
       "    </tr>\n",
       "    <tr>\n",
       "      <th>60</th>\n",
       "      <td>0</td>\n",
       "      <td>NaN</td>\n",
       "      <td>mazda</td>\n",
       "      <td>diesel</td>\n",
       "      <td>std</td>\n",
       "      <td>four</td>\n",
       "      <td>sedan</td>\n",
       "      <td>fwd</td>\n",
       "      <td>front</td>\n",
       "      <td>98.8</td>\n",
       "      <td>...</td>\n",
       "      <td>122</td>\n",
       "      <td>idi</td>\n",
       "      <td>3.39</td>\n",
       "      <td>3.39</td>\n",
       "      <td>22.7</td>\n",
       "      <td>64</td>\n",
       "      <td>4650</td>\n",
       "      <td>36</td>\n",
       "      <td>42</td>\n",
       "      <td>10795</td>\n",
       "    </tr>\n",
       "  </tbody>\n",
       "</table>\n",
       "<p>2 rows × 26 columns</p>\n",
       "</div>"
      ],
      "text/plain": [
       "    symboling  normalized-losses   make fuel-type aspiration num-of-doors  \\\n",
       "26          1              148.0  dodge       gas      turbo         four   \n",
       "60          0                NaN  mazda    diesel        std         four   \n",
       "\n",
       "   body-style drive-wheels engine-location  wheel-base  ...  engine-size  \\\n",
       "26      sedan          fwd           front        93.7  ...           98   \n",
       "60      sedan          fwd           front        98.8  ...          122   \n",
       "\n",
       "    fuel-system  bore  stroke compression-ratio horsepower  peak-rpm city-mpg  \\\n",
       "26         mpfi  3.03    3.39               7.6        102      5500       24   \n",
       "60          idi  3.39    3.39              22.7         64      4650       36   \n",
       "\n",
       "   highway-mpg  price  \n",
       "26          30   8558  \n",
       "60          42  10795  \n",
       "\n",
       "[2 rows x 26 columns]"
      ]
     },
     "execution_count": 7,
     "metadata": {},
     "output_type": "execute_result"
    }
   ],
   "source": [
    "auto[filtro_nulli]"
   ]
  },
  {
   "cell_type": "code",
   "execution_count": null,
   "id": "f9bbc70f-2b33-436b-a7d5-9fa9853005ec",
   "metadata": {},
   "outputs": [],
   "source": [
    "#esercizio_2\n",
    "#Nel pacchetto os della standard library c'è la funzione os.listdir() che permette di avere la lista dei nomi di file all'interno di una directory; senza input di default li cerca nella directory di lavoro corrente, altrimenti si può passare un path per esaminare una directory specifica, ad esempio os.listdir(\"mio_progetto/beginner_datasets/\")\n",
    "\n",
    "#Nella directory dei beginner_datasets, quali sono i dataset che contengono dati nulli?\n",
    "#Dovremo usare un ciclo for per esaminare tutti i nomi dei file\n",
    "#Dovremo selezionare solo i nomi di file con estensione .csv (quindi usare un costrutto if)\n",
    "#Nel corpo dovremo leggere di volta in volta il file in esame, e caricarlo in un DataFrame con la funzione .read_csv()\n",
    "#Sul DataFrame dovremo utilizzare il metodo .isna() per trovare la maschera booleana dei dati nulli\n",
    "#Dovremo contare i dati nulli, utilizzando .sum(); potremmo doverlo utilizzare più di una volta\n",
    "#Dovremo stampare, o memorizzare in una list, solo i nomi dei file che contengono dati nulli"
   ]
  },
  {
   "cell_type": "code",
   "execution_count": 8,
   "id": "2d9a35d7-7136-482f-a21e-2021fed85600",
   "metadata": {},
   "outputs": [
    {
     "name": "stdout",
     "output_type": "stream",
     "text": [
      "automobile.csv\n",
      "Valori nulli: 39 \n",
      "\n",
      "elections.csv\n",
      "Valori nulli: 52 \n",
      "\n",
      "france.csv\n",
      "Valori nulli: 66 \n",
      "\n",
      "hepatitis.csv\n",
      "Valori nulli: 153 \n",
      "\n",
      "house.csv\n",
      "Valori nulli: 7829 \n",
      "\n",
      "income.csv\n",
      "Valori nulli: 4262 \n",
      "\n",
      "mice.csv\n",
      "Valori nulli: 1396 \n",
      "\n",
      "nba.csv\n",
      "Valori nulli: 11 \n",
      "\n",
      "pokemon.csv\n",
      "Valori nulli: 386 \n",
      "\n",
      "population.csv\n",
      "Valori nulli: 12 \n",
      "\n",
      "seeds.csv\n",
      "Valori nulli: 4 \n",
      "\n",
      "traffic.csv\n",
      "Valori nulli: 48143 \n",
      "\n",
      "wikipedia.csv\n",
      "Valori nulli: 68 \n",
      "\n"
     ]
    }
   ],
   "source": [
    "import os\n",
    "path_dir = \"datasets/beginner_datasets/\"\n",
    "lista_files = os.listdir(path_dir)\n",
    "lista_files.sort()\n",
    "for nome_file in lista_files:\n",
    "    if \".csv\" in nome_file:\n",
    "        df = pd.read_csv(path_dir + nome_file)\n",
    "        numero_nulli = df.isna().sum().sum()\n",
    "        if numero_nulli > 0:\n",
    "            print(nome_file)\n",
    "            print(\"Valori nulli:\", numero_nulli, \"\\n\")"
   ]
  },
  {
   "cell_type": "code",
   "execution_count": null,
   "id": "06001abf-a0aa-402a-84cb-72c4a0209648",
   "metadata": {},
   "outputs": [],
   "source": [
    "#esercizio_3\n",
    "#Sul database titanic, effettuiamo le seguenti analisi:\n",
    "\n",
    "#Riusciamo a calcolare quanti ponti c'erano sulla nave (prima lettera dei dati nella colonna Cabin)?\n",
    "#Visualizzare un grafico con il numero di passeggeri di ogni classe di imbarco (colonna PClass)\n",
    "#Fare la stessa cosa per la colonna Survived\n",
    "#Qual era la distribuzione delle tariffe (Fare)?\n",
    "#Riusciamo a vedere la distribuzione delle età dei passeggeri rispetto alla classe di imbarco con un boxplot?\n",
    "#Visualizziamo un boxplot rispetto alle colonne Fare e Survived; che cose ne deduciamo?"
   ]
  },
  {
   "cell_type": "code",
   "execution_count": 9,
   "id": "ad7fcd5d-0f9d-4db1-a069-a433cbbca530",
   "metadata": {},
   "outputs": [],
   "source": [
    "dotenv.load_dotenv(override=True, dotenv_path=\"C:/Users/Marco/Desktop/Epicode/Python/.env\")\n",
    "\n",
    "username = os.getenv(\"username\")\n",
    "password = os.getenv(\"password\")\n",
    "host = os.getenv(\"host\")\n",
    "dbname = os.getenv(\"dbname\")\n",
    "\n",
    "connection_string = \"mysql+pymysql://\" + username + \":\" + password + \"@\" + host + \"/\" + dbname\n",
    "\n",
    "db_engine = sqlalchemy.create_engine(connection_string)\n",
    "\n",
    "query = \"SELECT * FROM titanic\"\n",
    "DF=pd.read_sql(query, db_engine)"
   ]
  },
  {
   "cell_type": "code",
   "execution_count": 10,
   "id": "eb62dc93-5985-43c6-889b-6f891b286323",
   "metadata": {},
   "outputs": [
    {
     "data": {
      "text/html": [
       "<div>\n",
       "<style scoped>\n",
       "    .dataframe tbody tr th:only-of-type {\n",
       "        vertical-align: middle;\n",
       "    }\n",
       "\n",
       "    .dataframe tbody tr th {\n",
       "        vertical-align: top;\n",
       "    }\n",
       "\n",
       "    .dataframe thead th {\n",
       "        text-align: right;\n",
       "    }\n",
       "</style>\n",
       "<table border=\"1\" class=\"dataframe\">\n",
       "  <thead>\n",
       "    <tr style=\"text-align: right;\">\n",
       "      <th></th>\n",
       "      <th>PassengerId</th>\n",
       "      <th>PClass</th>\n",
       "      <th>Name</th>\n",
       "      <th>Sex</th>\n",
       "      <th>Age</th>\n",
       "      <th>SibSp</th>\n",
       "      <th>Parch</th>\n",
       "      <th>Ticket</th>\n",
       "      <th>Fare</th>\n",
       "      <th>Cabin</th>\n",
       "      <th>Embarked</th>\n",
       "      <th>Survived</th>\n",
       "      <th>EmbarkDate</th>\n",
       "    </tr>\n",
       "  </thead>\n",
       "  <tbody>\n",
       "    <tr>\n",
       "      <th>0</th>\n",
       "      <td>1</td>\n",
       "      <td>3</td>\n",
       "      <td>Braund, Mr. Owen Harris</td>\n",
       "      <td>male</td>\n",
       "      <td>22.0</td>\n",
       "      <td>1</td>\n",
       "      <td>0</td>\n",
       "      <td>A/5 21171</td>\n",
       "      <td>7.25</td>\n",
       "      <td></td>\n",
       "      <td>S</td>\n",
       "      <td>0</td>\n",
       "      <td>10-4-1912</td>\n",
       "    </tr>\n",
       "    <tr>\n",
       "      <th>1</th>\n",
       "      <td>2</td>\n",
       "      <td>1</td>\n",
       "      <td>Cumings, Mrs. John Bradley (Florence Briggs Th...</td>\n",
       "      <td>female</td>\n",
       "      <td>38.0</td>\n",
       "      <td>1</td>\n",
       "      <td>0</td>\n",
       "      <td>PC 17599</td>\n",
       "      <td>71.28</td>\n",
       "      <td>C85</td>\n",
       "      <td>C</td>\n",
       "      <td>1</td>\n",
       "      <td>11-4-1912</td>\n",
       "    </tr>\n",
       "    <tr>\n",
       "      <th>2</th>\n",
       "      <td>3</td>\n",
       "      <td>3</td>\n",
       "      <td>Heikkinen, Miss. Laina</td>\n",
       "      <td>female</td>\n",
       "      <td>26.0</td>\n",
       "      <td>0</td>\n",
       "      <td>0</td>\n",
       "      <td>STON/O2. 3101282</td>\n",
       "      <td>7.93</td>\n",
       "      <td></td>\n",
       "      <td>S</td>\n",
       "      <td>1</td>\n",
       "      <td>10-4-1912</td>\n",
       "    </tr>\n",
       "    <tr>\n",
       "      <th>3</th>\n",
       "      <td>4</td>\n",
       "      <td>1</td>\n",
       "      <td>Futrelle, Mrs. Jacques Heath (Lily May Peel)</td>\n",
       "      <td>female</td>\n",
       "      <td>35.0</td>\n",
       "      <td>1</td>\n",
       "      <td>0</td>\n",
       "      <td>113803</td>\n",
       "      <td>53.10</td>\n",
       "      <td>C123</td>\n",
       "      <td>S</td>\n",
       "      <td>1</td>\n",
       "      <td>10-4-1912</td>\n",
       "    </tr>\n",
       "    <tr>\n",
       "      <th>4</th>\n",
       "      <td>5</td>\n",
       "      <td>3</td>\n",
       "      <td>Allen, Mr. William Henry</td>\n",
       "      <td>male</td>\n",
       "      <td>35.0</td>\n",
       "      <td>0</td>\n",
       "      <td>0</td>\n",
       "      <td>373450</td>\n",
       "      <td>8.05</td>\n",
       "      <td></td>\n",
       "      <td>S</td>\n",
       "      <td>0</td>\n",
       "      <td>10-4-1912</td>\n",
       "    </tr>\n",
       "    <tr>\n",
       "      <th>...</th>\n",
       "      <td>...</td>\n",
       "      <td>...</td>\n",
       "      <td>...</td>\n",
       "      <td>...</td>\n",
       "      <td>...</td>\n",
       "      <td>...</td>\n",
       "      <td>...</td>\n",
       "      <td>...</td>\n",
       "      <td>...</td>\n",
       "      <td>...</td>\n",
       "      <td>...</td>\n",
       "      <td>...</td>\n",
       "      <td>...</td>\n",
       "    </tr>\n",
       "    <tr>\n",
       "      <th>1304</th>\n",
       "      <td>1305</td>\n",
       "      <td>3</td>\n",
       "      <td>Spector, Mr. Woolf</td>\n",
       "      <td>male</td>\n",
       "      <td>0.0</td>\n",
       "      <td>0</td>\n",
       "      <td>0</td>\n",
       "      <td>A.5. 3236</td>\n",
       "      <td>8.05</td>\n",
       "      <td></td>\n",
       "      <td>S</td>\n",
       "      <td>0</td>\n",
       "      <td>10-4-1912</td>\n",
       "    </tr>\n",
       "    <tr>\n",
       "      <th>1305</th>\n",
       "      <td>1306</td>\n",
       "      <td>1</td>\n",
       "      <td>Oliva y Ocana, Dona. Fermina</td>\n",
       "      <td>female</td>\n",
       "      <td>39.0</td>\n",
       "      <td>0</td>\n",
       "      <td>0</td>\n",
       "      <td>PC 17758</td>\n",
       "      <td>108.90</td>\n",
       "      <td>C105</td>\n",
       "      <td>C</td>\n",
       "      <td>1</td>\n",
       "      <td>11-4-1912</td>\n",
       "    </tr>\n",
       "    <tr>\n",
       "      <th>1306</th>\n",
       "      <td>1307</td>\n",
       "      <td>3</td>\n",
       "      <td>Saether, Mr. Simon Sivertsen</td>\n",
       "      <td>male</td>\n",
       "      <td>38.5</td>\n",
       "      <td>0</td>\n",
       "      <td>0</td>\n",
       "      <td>SOTON/O.Q. 3101262</td>\n",
       "      <td>7.25</td>\n",
       "      <td></td>\n",
       "      <td>S</td>\n",
       "      <td>0</td>\n",
       "      <td>10-4-1912</td>\n",
       "    </tr>\n",
       "    <tr>\n",
       "      <th>1307</th>\n",
       "      <td>1308</td>\n",
       "      <td>3</td>\n",
       "      <td>Ware, Mr. Frederick</td>\n",
       "      <td>male</td>\n",
       "      <td>0.0</td>\n",
       "      <td>0</td>\n",
       "      <td>0</td>\n",
       "      <td>359309</td>\n",
       "      <td>8.05</td>\n",
       "      <td></td>\n",
       "      <td>S</td>\n",
       "      <td>0</td>\n",
       "      <td>10-4-1912</td>\n",
       "    </tr>\n",
       "    <tr>\n",
       "      <th>1308</th>\n",
       "      <td>1309</td>\n",
       "      <td>3</td>\n",
       "      <td>Peter, Master. Michael J</td>\n",
       "      <td>male</td>\n",
       "      <td>0.0</td>\n",
       "      <td>1</td>\n",
       "      <td>1</td>\n",
       "      <td>2668</td>\n",
       "      <td>22.36</td>\n",
       "      <td></td>\n",
       "      <td>C</td>\n",
       "      <td>1</td>\n",
       "      <td>11-4-1912</td>\n",
       "    </tr>\n",
       "  </tbody>\n",
       "</table>\n",
       "<p>1309 rows × 13 columns</p>\n",
       "</div>"
      ],
      "text/plain": [
       "      PassengerId  PClass                                               Name  \\\n",
       "0               1       3                            Braund, Mr. Owen Harris   \n",
       "1               2       1  Cumings, Mrs. John Bradley (Florence Briggs Th...   \n",
       "2               3       3                             Heikkinen, Miss. Laina   \n",
       "3               4       1       Futrelle, Mrs. Jacques Heath (Lily May Peel)   \n",
       "4               5       3                           Allen, Mr. William Henry   \n",
       "...           ...     ...                                                ...   \n",
       "1304         1305       3                                 Spector, Mr. Woolf   \n",
       "1305         1306       1                       Oliva y Ocana, Dona. Fermina   \n",
       "1306         1307       3                       Saether, Mr. Simon Sivertsen   \n",
       "1307         1308       3                                Ware, Mr. Frederick   \n",
       "1308         1309       3                           Peter, Master. Michael J   \n",
       "\n",
       "         Sex   Age  SibSp  Parch              Ticket    Fare Cabin Embarked  \\\n",
       "0       male  22.0      1      0           A/5 21171    7.25              S   \n",
       "1     female  38.0      1      0            PC 17599   71.28   C85        C   \n",
       "2     female  26.0      0      0    STON/O2. 3101282    7.93              S   \n",
       "3     female  35.0      1      0              113803   53.10  C123        S   \n",
       "4       male  35.0      0      0              373450    8.05              S   \n",
       "...      ...   ...    ...    ...                 ...     ...   ...      ...   \n",
       "1304    male   0.0      0      0           A.5. 3236    8.05              S   \n",
       "1305  female  39.0      0      0            PC 17758  108.90  C105        C   \n",
       "1306    male  38.5      0      0  SOTON/O.Q. 3101262    7.25              S   \n",
       "1307    male   0.0      0      0              359309    8.05              S   \n",
       "1308    male   0.0      1      1                2668   22.36              C   \n",
       "\n",
       "      Survived EmbarkDate  \n",
       "0            0  10-4-1912  \n",
       "1            1  11-4-1912  \n",
       "2            1  10-4-1912  \n",
       "3            1  10-4-1912  \n",
       "4            0  10-4-1912  \n",
       "...        ...        ...  \n",
       "1304         0  10-4-1912  \n",
       "1305         1  11-4-1912  \n",
       "1306         0  10-4-1912  \n",
       "1307         0  10-4-1912  \n",
       "1308         1  11-4-1912  \n",
       "\n",
       "[1309 rows x 13 columns]"
      ]
     },
     "execution_count": 10,
     "metadata": {},
     "output_type": "execute_result"
    }
   ],
   "source": [
    "titanic = pd.read_sql(\"SELECT * FROM titanic\", db_engine)\n",
    "titanic"
   ]
  },
  {
   "cell_type": "code",
   "execution_count": 11,
   "id": "8c1d4f60-d48b-4969-86d1-73ff972732a7",
   "metadata": {},
   "outputs": [],
   "source": [
    "# trasformiamo i valori nulli da impliciti in espliciti\n",
    "titanic = titanic.replace(\"\", None)"
   ]
  },
  {
   "cell_type": "code",
   "execution_count": 12,
   "id": "a071008a-e63d-4a01-9429-59e29155dc03",
   "metadata": {},
   "outputs": [
    {
     "data": {
      "text/plain": [
       "{'A', 'B', 'C', 'D', 'E', 'F', 'G', 'T'}"
      ]
     },
     "execution_count": 12,
     "metadata": {},
     "output_type": "execute_result"
    }
   ],
   "source": [
    "prima_lettera_cabine = []\n",
    "for riga_cabina in titanic.Cabin.dropna():\n",
    "    for cabina in riga_cabina.split():\n",
    "        prima_lettera_cabine.append( cabina[0] )\n",
    "set(prima_lettera_cabine)"
   ]
  },
  {
   "cell_type": "code",
   "execution_count": 13,
   "id": "22099393-3acc-42b9-a900-0365ee464556",
   "metadata": {},
   "outputs": [
    {
     "data": {
      "text/plain": [
       "<Axes: xlabel='PClass', ylabel='count'>"
      ]
     },
     "execution_count": 13,
     "metadata": {},
     "output_type": "execute_result"
    },
    {
     "data": {
      "image/png": "[encoded data removed]",
      "text/plain": [
       "<Figure size 640x480 with 1 Axes>"
      ]
     },
     "metadata": {},
     "output_type": "display_data"
    }
   ],
   "source": [
    "sns.countplot(data=titanic, x=\"PClass\")"
   ]
  },
  {
   "cell_type": "code",
   "execution_count": 14,
   "id": "7eff6295-a41a-48f3-9f78-ba0bb552af21",
   "metadata": {},
   "outputs": [
    {
     "data": {
      "text/plain": [
       "<Axes: xlabel='Survived', ylabel='count'>"
      ]
     },
     "execution_count": 14,
     "metadata": {},
     "output_type": "execute_result"
    },
    {
     "data": {
      "image/png": "[encoded data removed]",
      "text/plain": [
       "<Figure size 640x480 with 1 Axes>"
      ]
     },
     "metadata": {},
     "output_type": "display_data"
    }
   ],
   "source": [
    "sns.countplot(data=titanic, x=\"Survived\")"
   ]
  },
  {
   "cell_type": "code",
   "execution_count": 15,
   "id": "4ecd2344-9798-47b7-965c-4d3a0e90f95d",
   "metadata": {},
   "outputs": [
    {
     "data": {
      "text/plain": [
       "<Axes: ylabel='Frequency'>"
      ]
     },
     "execution_count": 15,
     "metadata": {},
     "output_type": "execute_result"
    },
    {
     "data": {
      "image/png": "[encoded data removed]",
      "text/plain": [
       "<Figure size 640x480 with 1 Axes>"
      ]
     },
     "metadata": {},
     "output_type": "display_data"
    }
   ],
   "source": [
    "titanic.Fare.plot(kind=\"hist\", bins=20)"
   ]
  },
  {
   "cell_type": "code",
   "execution_count": 16,
   "id": "28886626-4ee5-400c-9db2-8db83c0af99a",
   "metadata": {},
   "outputs": [
    {
     "data": {
      "text/plain": [
       "<Axes: xlabel='PClass', ylabel='Age'>"
      ]
     },
     "execution_count": 16,
     "metadata": {},
     "output_type": "execute_result"
    },
    {
     "data": {
      "image/png": "[encoded data removed]",
      "text/plain": [
       "<Figure size 640x480 with 1 Axes>"
      ]
     },
     "metadata": {},
     "output_type": "display_data"
    }
   ],
   "source": [
    "sns.boxplot(data=titanic, x=\"PClass\", y=\"Age\")"
   ]
  },
  {
   "cell_type": "code",
   "execution_count": 17,
   "id": "623d106d-e3f8-4d8b-abd4-fea64d04324a",
   "metadata": {},
   "outputs": [
    {
     "data": {
      "text/plain": [
       "<Axes: xlabel='Survived', ylabel='Fare'>"
      ]
     },
     "execution_count": 17,
     "metadata": {},
     "output_type": "execute_result"
    },
    {
     "data": {
      "image/png": "[encoded data removed]",
      "text/plain": [
       "<Figure size 640x480 with 1 Axes>"
      ]
     },
     "metadata": {},
     "output_type": "display_data"
    }
   ],
   "source": [
    "sns.boxplot(data=titanic, x=\"Survived\", y=\"Fare\")"
   ]
  },
  {
   "cell_type": "code",
   "execution_count": null,
   "id": "f904b877-2380-4fbb-8ff6-2e860404ba67",
   "metadata": {},
   "outputs": [],
   "source": [
    "#Scarichiamo il dataset stockdata.csv da https://github.com/plotly/datasets/blob/master/stockdata.csv e:\n",
    "\n",
    "#Visualizziamo l'andamento delle azioni della Apple (\"AAPL\")\n",
    "#Visualizziamo l'andamento di tutte le azioni del dataset\n",
    "#Visualizziamo l'andamento di Microsoft (\"MSFT\") e IBM (\"IBM\") negli anni 2012 e 2013\n",
    "#Con un istogramma, troviamo il range di valori che le azioni di Microsoft hanno assunto più spesso"
   ]
  },
  {
   "cell_type": "code",
   "execution_count": 18,
   "id": "d483fdc5-57a1-43eb-9de1-0f4944e4239d",
   "metadata": {},
   "outputs": [
    {
     "data": {
      "text/html": [
       "<div>\n",
       "<style scoped>\n",
       "    .dataframe tbody tr th:only-of-type {\n",
       "        vertical-align: middle;\n",
       "    }\n",
       "\n",
       "    .dataframe tbody tr th {\n",
       "        vertical-align: top;\n",
       "    }\n",
       "\n",
       "    .dataframe thead th {\n",
       "        text-align: right;\n",
       "    }\n",
       "</style>\n",
       "<table border=\"1\" class=\"dataframe\">\n",
       "  <thead>\n",
       "    <tr style=\"text-align: right;\">\n",
       "      <th></th>\n",
       "      <th>MSFT</th>\n",
       "      <th>IBM</th>\n",
       "      <th>SBUX</th>\n",
       "      <th>AAPL</th>\n",
       "      <th>GSPC</th>\n",
       "    </tr>\n",
       "    <tr>\n",
       "      <th>Date</th>\n",
       "      <th></th>\n",
       "      <th></th>\n",
       "      <th></th>\n",
       "      <th></th>\n",
       "      <th></th>\n",
       "    </tr>\n",
       "  </thead>\n",
       "  <tbody>\n",
       "    <tr>\n",
       "      <th>2007-01-03</th>\n",
       "      <td>23.950705</td>\n",
       "      <td>80.517962</td>\n",
       "      <td>16.149666</td>\n",
       "      <td>11.086612</td>\n",
       "      <td>1416.599976</td>\n",
       "    </tr>\n",
       "    <tr>\n",
       "      <th>2007-01-04</th>\n",
       "      <td>23.910599</td>\n",
       "      <td>81.378851</td>\n",
       "      <td>16.167992</td>\n",
       "      <td>11.332687</td>\n",
       "      <td>1418.339966</td>\n",
       "    </tr>\n",
       "    <tr>\n",
       "      <th>2007-01-05</th>\n",
       "      <td>23.774242</td>\n",
       "      <td>80.642129</td>\n",
       "      <td>16.099269</td>\n",
       "      <td>11.251984</td>\n",
       "      <td>1409.709961</td>\n",
       "    </tr>\n",
       "    <tr>\n",
       "      <th>2007-01-08</th>\n",
       "      <td>24.006852</td>\n",
       "      <td>81.867244</td>\n",
       "      <td>16.039710</td>\n",
       "      <td>11.307550</td>\n",
       "      <td>1412.839966</td>\n",
       "    </tr>\n",
       "    <tr>\n",
       "      <th>2007-01-09</th>\n",
       "      <td>24.030914</td>\n",
       "      <td>82.835742</td>\n",
       "      <td>15.970989</td>\n",
       "      <td>12.246870</td>\n",
       "      <td>1412.109985</td>\n",
       "    </tr>\n",
       "    <tr>\n",
       "      <th>...</th>\n",
       "      <td>...</td>\n",
       "      <td>...</td>\n",
       "      <td>...</td>\n",
       "      <td>...</td>\n",
       "      <td>...</td>\n",
       "    </tr>\n",
       "    <tr>\n",
       "      <th>2016-02-24</th>\n",
       "      <td>51.360001</td>\n",
       "      <td>132.800003</td>\n",
       "      <td>58.110001</td>\n",
       "      <td>96.099998</td>\n",
       "      <td>1929.800049</td>\n",
       "    </tr>\n",
       "    <tr>\n",
       "      <th>2016-02-25</th>\n",
       "      <td>52.099998</td>\n",
       "      <td>134.500000</td>\n",
       "      <td>58.750000</td>\n",
       "      <td>96.760002</td>\n",
       "      <td>1951.699951</td>\n",
       "    </tr>\n",
       "    <tr>\n",
       "      <th>2016-02-26</th>\n",
       "      <td>51.299999</td>\n",
       "      <td>132.029999</td>\n",
       "      <td>58.340000</td>\n",
       "      <td>96.910004</td>\n",
       "      <td>1948.050049</td>\n",
       "    </tr>\n",
       "    <tr>\n",
       "      <th>2016-02-29</th>\n",
       "      <td>50.880001</td>\n",
       "      <td>131.029999</td>\n",
       "      <td>58.209999</td>\n",
       "      <td>96.690002</td>\n",
       "      <td>1932.229980</td>\n",
       "    </tr>\n",
       "    <tr>\n",
       "      <th>2016-03-01</th>\n",
       "      <td>52.580002</td>\n",
       "      <td>134.369995</td>\n",
       "      <td>60.040001</td>\n",
       "      <td>100.529999</td>\n",
       "      <td>1978.349976</td>\n",
       "    </tr>\n",
       "  </tbody>\n",
       "</table>\n",
       "<p>2306 rows × 5 columns</p>\n",
       "</div>"
      ],
      "text/plain": [
       "                 MSFT         IBM       SBUX        AAPL         GSPC\n",
       "Date                                                                 \n",
       "2007-01-03  23.950705   80.517962  16.149666   11.086612  1416.599976\n",
       "2007-01-04  23.910599   81.378851  16.167992   11.332687  1418.339966\n",
       "2007-01-05  23.774242   80.642129  16.099269   11.251984  1409.709961\n",
       "2007-01-08  24.006852   81.867244  16.039710   11.307550  1412.839966\n",
       "2007-01-09  24.030914   82.835742  15.970989   12.246870  1412.109985\n",
       "...               ...         ...        ...         ...          ...\n",
       "2016-02-24  51.360001  132.800003  58.110001   96.099998  1929.800049\n",
       "2016-02-25  52.099998  134.500000  58.750000   96.760002  1951.699951\n",
       "2016-02-26  51.299999  132.029999  58.340000   96.910004  1948.050049\n",
       "2016-02-29  50.880001  131.029999  58.209999   96.690002  1932.229980\n",
       "2016-03-01  52.580002  134.369995  60.040001  100.529999  1978.349976\n",
       "\n",
       "[2306 rows x 5 columns]"
      ]
     },
     "execution_count": 18,
     "metadata": {},
     "output_type": "execute_result"
    }
   ],
   "source": [
    "stock = pd.read_csv(\"C:/Users/Marco/Desktop/Epicode/Python/datasets/datasets/beginner_datasets/stockdata.csv\")\n",
    "stock = stock.set_index(\"Date\")\n",
    "stock"
   ]
  },
  {
   "cell_type": "code",
   "execution_count": 19,
   "id": "5a7a39a0-de89-4862-a0b9-edbdebc643b7",
   "metadata": {},
   "outputs": [
    {
     "data": {
      "text/plain": [
       "<Axes: xlabel='Date'>"
      ]
     },
     "execution_count": 19,
     "metadata": {},
     "output_type": "execute_result"
    },
    {
     "data": {
      "image/png": "[encoded data removed]",
      "text/plain": [
       "<Figure size 640x480 with 1 Axes>"
      ]
     },
     "metadata": {},
     "output_type": "display_data"
    }
   ],
   "source": [
    "stock.AAPL.plot()"
   ]
  },
  {
   "cell_type": "code",
   "execution_count": 20,
   "id": "1fb40321-9718-4dc7-be01-565fdf620407",
   "metadata": {},
   "outputs": [
    {
     "data": {
      "text/plain": [
       "<Axes: xlabel='Date'>"
      ]
     },
     "execution_count": 20,
     "metadata": {},
     "output_type": "execute_result"
    },
    {
     "data": {
      "image/png": "[encoded data removed]",
      "text/plain": [
       "<Figure size 640x480 with 1 Axes>"
      ]
     },
     "metadata": {},
     "output_type": "display_data"
    }
   ],
   "source": [
    "stock.loc[:, [\"AAPL\", \"MSFT\", \"IBM\"]].plot()"
   ]
  },
  {
   "cell_type": "code",
   "execution_count": 21,
   "id": "a14a79d0-e8c5-4374-be7b-d99134074597",
   "metadata": {},
   "outputs": [
    {
     "data": {
      "text/plain": [
       "<Axes: xlabel='Date'>"
      ]
     },
     "execution_count": 21,
     "metadata": {},
     "output_type": "execute_result"
    },
    {
     "data": {
      "image/png": "[encoded data removed]",
      "text/plain": [
       "<Figure size 640x480 with 1 Axes>"
      ]
     },
     "metadata": {},
     "output_type": "display_data"
    }
   ],
   "source": [
    "stock.loc[\"2012-01-01\":\"2013-12-31\", \"MSFT\":\"IBM\"].plot()"
   ]
  },
  {
   "cell_type": "code",
   "execution_count": 22,
   "id": "54a12283-f360-456d-9277-160100438ae3",
   "metadata": {},
   "outputs": [
    {
     "data": {
      "text/plain": [
       "<Axes: xlabel='Date'>"
      ]
     },
     "execution_count": 22,
     "metadata": {},
     "output_type": "execute_result"
    },
    {
     "data": {
      "image/png": "[encoded data removed]",
      "text/plain": [
       "<Figure size 640x480 with 1 Axes>"
      ]
     },
     "metadata": {},
     "output_type": "display_data"
    }
   ],
   "source": [
    "stock.plot()"
   ]
  },
  {
   "cell_type": "code",
   "execution_count": 23,
   "id": "af519e20-9c24-4ce8-b06c-ed0630da2383",
   "metadata": {},
   "outputs": [
    {
     "data": {
      "text/plain": [
       "<Axes: ylabel='Frequency'>"
      ]
     },
     "execution_count": 23,
     "metadata": {},
     "output_type": "execute_result"
    },
    {
     "data": {
      "image/png": "[encoded data removed]",
      "text/plain": [
       "<Figure size 640x480 with 1 Axes>"
      ]
     },
     "metadata": {},
     "output_type": "display_data"
    }
   ],
   "source": [
    "stock.MSFT.plot(kind=\"hist\")"
   ]
  },
  {
   "cell_type": "code",
   "execution_count": null,
   "id": "8d627796-cc0f-4886-b1ac-f54f3779af1d",
   "metadata": {},
   "outputs": [],
   "source": [
    "#esercizio_4\n",
    "#Scarichiamo il dataset metal_bands_2017.csv dalla piattaforma e:\n",
    "\n",
    "#Con Seaborn visualizziamo l'istogramma del numero dei fan delle varie band; cosa si vede? Cose ne deduciamo?\n",
    "#Delle band che suonano sia Progressive che Thrash, realizziamo un barplot che mostri quanti fan ci sono in totale rispetto al paese di origine (nota: in questo caso specifico, per accedere alla colonna \"style\" dovremo usare .loc[:, \"style\"] e non .style perché quest'ultimo è un metodo)\n",
    "#Visualizziamo un istogramma delle date di formazione delle band (potremo dover convertire in qualche modo questo dato); si nota qualche trend?"
   ]
  },
  {
   "cell_type": "code",
   "execution_count": 24,
   "id": "81cafa5f-0ab0-40df-88eb-5352eda4256a",
   "metadata": {},
   "outputs": [
    {
     "data": {
      "text/html": [
       "<div>\n",
       "<style scoped>\n",
       "    .dataframe tbody tr th:only-of-type {\n",
       "        vertical-align: middle;\n",
       "    }\n",
       "\n",
       "    .dataframe tbody tr th {\n",
       "        vertical-align: top;\n",
       "    }\n",
       "\n",
       "    .dataframe thead th {\n",
       "        text-align: right;\n",
       "    }\n",
       "</style>\n",
       "<table border=\"1\" class=\"dataframe\">\n",
       "  <thead>\n",
       "    <tr style=\"text-align: right;\">\n",
       "      <th></th>\n",
       "      <th>band_name</th>\n",
       "      <th>fans</th>\n",
       "      <th>formed</th>\n",
       "      <th>origin</th>\n",
       "      <th>split</th>\n",
       "      <th>style</th>\n",
       "    </tr>\n",
       "  </thead>\n",
       "  <tbody>\n",
       "    <tr>\n",
       "      <th>0</th>\n",
       "      <td>Iron Maiden</td>\n",
       "      <td>4195</td>\n",
       "      <td>1975</td>\n",
       "      <td>United Kingdom</td>\n",
       "      <td>-</td>\n",
       "      <td>New wave of british heavy,Heavy</td>\n",
       "    </tr>\n",
       "    <tr>\n",
       "      <th>1</th>\n",
       "      <td>Opeth</td>\n",
       "      <td>4147</td>\n",
       "      <td>1990</td>\n",
       "      <td>Sweden</td>\n",
       "      <td>1990</td>\n",
       "      <td>Extreme progressive,Progressive rock,Progressive</td>\n",
       "    </tr>\n",
       "    <tr>\n",
       "      <th>2</th>\n",
       "      <td>Metallica</td>\n",
       "      <td>3712</td>\n",
       "      <td>1981</td>\n",
       "      <td>USA</td>\n",
       "      <td>-</td>\n",
       "      <td>Heavy,Bay area thrash</td>\n",
       "    </tr>\n",
       "    <tr>\n",
       "      <th>3</th>\n",
       "      <td>Megadeth</td>\n",
       "      <td>3105</td>\n",
       "      <td>1983</td>\n",
       "      <td>USA</td>\n",
       "      <td>1983</td>\n",
       "      <td>Thrash,Heavy,Hard rock</td>\n",
       "    </tr>\n",
       "    <tr>\n",
       "      <th>4</th>\n",
       "      <td>Amon Amarth</td>\n",
       "      <td>3054</td>\n",
       "      <td>1988</td>\n",
       "      <td>Sweden</td>\n",
       "      <td>-</td>\n",
       "      <td>Melodic death</td>\n",
       "    </tr>\n",
       "    <tr>\n",
       "      <th>...</th>\n",
       "      <td>...</td>\n",
       "      <td>...</td>\n",
       "      <td>...</td>\n",
       "      <td>...</td>\n",
       "      <td>...</td>\n",
       "      <td>...</td>\n",
       "    </tr>\n",
       "    <tr>\n",
       "      <th>4995</th>\n",
       "      <td>Atara</td>\n",
       "      <td>0</td>\n",
       "      <td>2006</td>\n",
       "      <td>France</td>\n",
       "      <td>2006</td>\n",
       "      <td>Black,Grindcore</td>\n",
       "    </tr>\n",
       "    <tr>\n",
       "      <th>4996</th>\n",
       "      <td>Avicularia</td>\n",
       "      <td>0</td>\n",
       "      <td>2003</td>\n",
       "      <td>Croatia</td>\n",
       "      <td>-</td>\n",
       "      <td>Avantgarde death</td>\n",
       "    </tr>\n",
       "    <tr>\n",
       "      <th>4997</th>\n",
       "      <td>Awake</td>\n",
       "      <td>0</td>\n",
       "      <td>2006</td>\n",
       "      <td>United Kingdom</td>\n",
       "      <td>2006</td>\n",
       "      <td>Heavy,Progressive</td>\n",
       "    </tr>\n",
       "    <tr>\n",
       "      <th>4998</th>\n",
       "      <td>Axatak</td>\n",
       "      <td>0</td>\n",
       "      <td>1983</td>\n",
       "      <td>Australia</td>\n",
       "      <td>1988</td>\n",
       "      <td>Hard rock,Heavy</td>\n",
       "    </tr>\n",
       "    <tr>\n",
       "      <th>4999</th>\n",
       "      <td>Axis Of Despair</td>\n",
       "      <td>0</td>\n",
       "      <td>2014</td>\n",
       "      <td>Sweden</td>\n",
       "      <td>2014</td>\n",
       "      <td>Grindcore</td>\n",
       "    </tr>\n",
       "  </tbody>\n",
       "</table>\n",
       "<p>5000 rows × 6 columns</p>\n",
       "</div>"
      ],
      "text/plain": [
       "            band_name  fans formed          origin split  \\\n",
       "0         Iron Maiden  4195   1975  United Kingdom     -   \n",
       "1               Opeth  4147   1990          Sweden  1990   \n",
       "2           Metallica  3712   1981             USA     -   \n",
       "3            Megadeth  3105   1983             USA  1983   \n",
       "4         Amon Amarth  3054   1988          Sweden     -   \n",
       "...               ...   ...    ...             ...   ...   \n",
       "4995            Atara     0   2006          France  2006   \n",
       "4996       Avicularia     0   2003         Croatia     -   \n",
       "4997            Awake     0   2006  United Kingdom  2006   \n",
       "4998           Axatak     0   1983       Australia  1988   \n",
       "4999  Axis Of Despair     0   2014          Sweden  2014   \n",
       "\n",
       "                                                 style  \n",
       "0                      New wave of british heavy,Heavy  \n",
       "1     Extreme progressive,Progressive rock,Progressive  \n",
       "2                                Heavy,Bay area thrash  \n",
       "3                               Thrash,Heavy,Hard rock  \n",
       "4                                        Melodic death  \n",
       "...                                                ...  \n",
       "4995                                   Black,Grindcore  \n",
       "4996                                  Avantgarde death  \n",
       "4997                                 Heavy,Progressive  \n",
       "4998                                   Hard rock,Heavy  \n",
       "4999                                         Grindcore  \n",
       "\n",
       "[5000 rows x 6 columns]"
      ]
     },
     "execution_count": 24,
     "metadata": {},
     "output_type": "execute_result"
    }
   ],
   "source": [
    "metal = pd.read_csv(\"C:/Users/Marco/Desktop/Epicode/Python/datasets/datasets/altri_dataset/metal_bands_2017.csv\", encoding=\"latin1\", index_col=0)\n",
    "metal"
   ]
  },
  {
   "cell_type": "code",
   "execution_count": 25,
   "id": "eb8e20e0-1175-43b5-bdd8-3876bb8b7c67",
   "metadata": {},
   "outputs": [
    {
     "data": {
      "text/plain": [
       "band_name    object\n",
       "fans          int64\n",
       "formed       object\n",
       "origin       object\n",
       "split        object\n",
       "style        object\n",
       "dtype: object"
      ]
     },
     "execution_count": 25,
     "metadata": {},
     "output_type": "execute_result"
    }
   ],
   "source": [
    "metal.dtypes"
   ]
  },
  {
   "cell_type": "code",
   "execution_count": 26,
   "id": "44836fc7-4380-4b8e-a363-818ea46fe988",
   "metadata": {},
   "outputs": [
    {
     "data": {
      "text/plain": [
       "<Axes: ylabel='Frequency'>"
      ]
     },
     "execution_count": 26,
     "metadata": {},
     "output_type": "execute_result"
    },
    {
     "data": {
      "image/png": "[encoded data removed]",
      "text/plain": [
       "<Figure size 640x480 with 1 Axes>"
      ]
     },
     "metadata": {},
     "output_type": "display_data"
    }
   ],
   "source": [
    "metal.fans.plot(kind=\"hist\", bins=30)"
   ]
  },
  {
   "cell_type": "code",
   "execution_count": 27,
   "id": "2ee8c382-d8f0-4128-9398-b0711206ead5",
   "metadata": {},
   "outputs": [
    {
     "data": {
      "text/html": [
       "<div>\n",
       "<style scoped>\n",
       "    .dataframe tbody tr th:only-of-type {\n",
       "        vertical-align: middle;\n",
       "    }\n",
       "\n",
       "    .dataframe tbody tr th {\n",
       "        vertical-align: top;\n",
       "    }\n",
       "\n",
       "    .dataframe thead th {\n",
       "        text-align: right;\n",
       "    }\n",
       "</style>\n",
       "<table border=\"1\" class=\"dataframe\">\n",
       "  <thead>\n",
       "    <tr style=\"text-align: right;\">\n",
       "      <th></th>\n",
       "      <th>band_name</th>\n",
       "      <th>fans</th>\n",
       "      <th>formed</th>\n",
       "      <th>origin</th>\n",
       "      <th>split</th>\n",
       "      <th>style</th>\n",
       "    </tr>\n",
       "  </thead>\n",
       "  <tbody>\n",
       "    <tr>\n",
       "      <th>0</th>\n",
       "      <td>Iron Maiden</td>\n",
       "      <td>4195</td>\n",
       "      <td>1975</td>\n",
       "      <td>United Kingdom</td>\n",
       "      <td>-</td>\n",
       "      <td>New wave of british heavy,Heavy</td>\n",
       "    </tr>\n",
       "    <tr>\n",
       "      <th>1</th>\n",
       "      <td>Opeth</td>\n",
       "      <td>4147</td>\n",
       "      <td>1990</td>\n",
       "      <td>Sweden</td>\n",
       "      <td>1990</td>\n",
       "      <td>Extreme progressive,Progressive rock,Progressive</td>\n",
       "    </tr>\n",
       "    <tr>\n",
       "      <th>2</th>\n",
       "      <td>Metallica</td>\n",
       "      <td>3712</td>\n",
       "      <td>1981</td>\n",
       "      <td>USA</td>\n",
       "      <td>-</td>\n",
       "      <td>Heavy,Bay area thrash</td>\n",
       "    </tr>\n",
       "    <tr>\n",
       "      <th>3</th>\n",
       "      <td>Megadeth</td>\n",
       "      <td>3105</td>\n",
       "      <td>1983</td>\n",
       "      <td>USA</td>\n",
       "      <td>1983</td>\n",
       "      <td>Thrash,Heavy,Hard rock</td>\n",
       "    </tr>\n",
       "    <tr>\n",
       "      <th>4</th>\n",
       "      <td>Amon Amarth</td>\n",
       "      <td>3054</td>\n",
       "      <td>1988</td>\n",
       "      <td>Sweden</td>\n",
       "      <td>-</td>\n",
       "      <td>Melodic death</td>\n",
       "    </tr>\n",
       "    <tr>\n",
       "      <th>...</th>\n",
       "      <td>...</td>\n",
       "      <td>...</td>\n",
       "      <td>...</td>\n",
       "      <td>...</td>\n",
       "      <td>...</td>\n",
       "      <td>...</td>\n",
       "    </tr>\n",
       "    <tr>\n",
       "      <th>4995</th>\n",
       "      <td>Atara</td>\n",
       "      <td>0</td>\n",
       "      <td>2006</td>\n",
       "      <td>France</td>\n",
       "      <td>2006</td>\n",
       "      <td>Black,Grindcore</td>\n",
       "    </tr>\n",
       "    <tr>\n",
       "      <th>4996</th>\n",
       "      <td>Avicularia</td>\n",
       "      <td>0</td>\n",
       "      <td>2003</td>\n",
       "      <td>Croatia</td>\n",
       "      <td>-</td>\n",
       "      <td>Avantgarde death</td>\n",
       "    </tr>\n",
       "    <tr>\n",
       "      <th>4997</th>\n",
       "      <td>Awake</td>\n",
       "      <td>0</td>\n",
       "      <td>2006</td>\n",
       "      <td>United Kingdom</td>\n",
       "      <td>2006</td>\n",
       "      <td>Heavy,Progressive</td>\n",
       "    </tr>\n",
       "    <tr>\n",
       "      <th>4998</th>\n",
       "      <td>Axatak</td>\n",
       "      <td>0</td>\n",
       "      <td>1983</td>\n",
       "      <td>Australia</td>\n",
       "      <td>1988</td>\n",
       "      <td>Hard rock,Heavy</td>\n",
       "    </tr>\n",
       "    <tr>\n",
       "      <th>4999</th>\n",
       "      <td>Axis Of Despair</td>\n",
       "      <td>0</td>\n",
       "      <td>2014</td>\n",
       "      <td>Sweden</td>\n",
       "      <td>2014</td>\n",
       "      <td>Grindcore</td>\n",
       "    </tr>\n",
       "  </tbody>\n",
       "</table>\n",
       "<p>5000 rows × 6 columns</p>\n",
       "</div>"
      ],
      "text/plain": [
       "            band_name  fans formed          origin split  \\\n",
       "0         Iron Maiden  4195   1975  United Kingdom     -   \n",
       "1               Opeth  4147   1990          Sweden  1990   \n",
       "2           Metallica  3712   1981             USA     -   \n",
       "3            Megadeth  3105   1983             USA  1983   \n",
       "4         Amon Amarth  3054   1988          Sweden     -   \n",
       "...               ...   ...    ...             ...   ...   \n",
       "4995            Atara     0   2006          France  2006   \n",
       "4996       Avicularia     0   2003         Croatia     -   \n",
       "4997            Awake     0   2006  United Kingdom  2006   \n",
       "4998           Axatak     0   1983       Australia  1988   \n",
       "4999  Axis Of Despair     0   2014          Sweden  2014   \n",
       "\n",
       "                                                 style  \n",
       "0                      New wave of british heavy,Heavy  \n",
       "1     Extreme progressive,Progressive rock,Progressive  \n",
       "2                                Heavy,Bay area thrash  \n",
       "3                               Thrash,Heavy,Hard rock  \n",
       "4                                        Melodic death  \n",
       "...                                                ...  \n",
       "4995                                   Black,Grindcore  \n",
       "4996                                  Avantgarde death  \n",
       "4997                                 Heavy,Progressive  \n",
       "4998                                   Hard rock,Heavy  \n",
       "4999                                         Grindcore  \n",
       "\n",
       "[5000 rows x 6 columns]"
      ]
     },
     "execution_count": 27,
     "metadata": {},
     "output_type": "execute_result"
    }
   ],
   "source": [
    "metal"
   ]
  },
  {
   "cell_type": "code",
   "execution_count": 28,
   "id": "7396756d-310d-4544-9e08-1f1b0a4c35c4",
   "metadata": {},
   "outputs": [],
   "source": [
    "filtro_prog = metal[\"style\"].str.contains(\"progressive\", case=False)\n",
    "filtro_thra = metal[\"style\"].str.contains(\"thrash\", case=False)\n",
    "filtro = filtro_prog & filtro_thra\n",
    "metal_pt = metal.loc[filtro]"
   ]
  },
  {
   "cell_type": "code",
   "execution_count": 29,
   "id": "84a11681-f52d-4217-86e4-d3ded4b26e18",
   "metadata": {},
   "outputs": [],
   "source": [
    "fan_by_origin = metal_pt.groupby(\"origin\")[\"fans\"].sum()"
   ]
  },
  {
   "cell_type": "code",
   "execution_count": 30,
   "id": "18ea63c6-e09c-4803-8047-68713133df64",
   "metadata": {},
   "outputs": [
    {
     "data": {
      "text/plain": [
       "<Axes: ylabel='origin'>"
      ]
     },
     "execution_count": 30,
     "metadata": {},
     "output_type": "execute_result"
    },
    {
     "data": {
      "image/png": "[encoded data removed]",
      "text/plain": [
       "<Figure size 640x480 with 1 Axes>"
      ]
     },
     "metadata": {},
     "output_type": "display_data"
    }
   ],
   "source": [
    "fan_by_origin.plot(kind=\"barh\")"
   ]
  },
  {
   "cell_type": "code",
   "execution_count": 31,
   "id": "edc7245c-06dc-4345-9cab-8b0570c8a8c1",
   "metadata": {},
   "outputs": [
    {
     "data": {
      "text/plain": [
       "formed\n",
       "2005    270\n",
       "2007    265\n",
       "2006    248\n",
       "2008    227\n",
       "2004    221\n",
       "2003    217\n",
       "2009    205\n",
       "1998    203\n",
       "2010    202\n",
       "2001    189\n",
       "1999    182\n",
       "2002    179\n",
       "2000    174\n",
       "1995    169\n",
       "1996    160\n",
       "1997    159\n",
       "1993    157\n",
       "2011    153\n",
       "2012    136\n",
       "1994    132\n",
       "2013    118\n",
       "1989    102\n",
       "1992    100\n",
       "1990     98\n",
       "2014     88\n",
       "1991     77\n",
       "1988     64\n",
       "1985     60\n",
       "1984     53\n",
       "1986     53\n",
       "1987     53\n",
       "1983     42\n",
       "1982     40\n",
       "2015     36\n",
       "1981     30\n",
       "1979     26\n",
       "1980     25\n",
       "1976     17\n",
       "1978     11\n",
       "1977     11\n",
       "1975      7\n",
       "1968      7\n",
       "1969      6\n",
       "1972      5\n",
       "2016      5\n",
       "1973      4\n",
       "-         4\n",
       "1967      3\n",
       "1974      3\n",
       "1964      1\n",
       "1965      1\n",
       "1971      1\n",
       "1970      1\n",
       "Name: count, dtype: int64"
      ]
     },
     "execution_count": 31,
     "metadata": {},
     "output_type": "execute_result"
    }
   ],
   "source": [
    "metal.formed.value_counts(dropna=False)"
   ]
  },
  {
   "cell_type": "code",
   "execution_count": 32,
   "id": "538428fd-a6ca-454e-9e0d-f262159fcd31",
   "metadata": {},
   "outputs": [
    {
     "data": {
      "text/plain": [
       "<Axes: ylabel='Frequency'>"
      ]
     },
     "execution_count": 32,
     "metadata": {},
     "output_type": "execute_result"
    },
    {
     "data": {
      "image/png": "[encoded data removed]",
      "text/plain": [
       "<Figure size 640x480 with 1 Axes>"
      ]
     },
     "metadata": {},
     "output_type": "display_data"
    }
   ],
   "source": [
    "filtro = metal.formed != \"-\"\n",
    "metal_fc = metal.loc[filtro]\n",
    "metal_fc.loc[:, \"formed\"] = metal_fc.formed.astype(int)\n",
    "metal_fc.formed.plot(kind=\"hist\")"
   ]
  },
  {
   "cell_type": "code",
   "execution_count": null,
   "id": "90712290-e128-4745-8544-c820794231c1",
   "metadata": {},
   "outputs": [],
   "source": [
    "#Esercizio_5\n",
    "#Scarichiamo il dataset elections.csv da https://github.com/plotly/datasets/blob/master/election.csv:\n",
    "\n",
    "#Con un grafico a barre confrontiamo i voti totali presi dai tre candidati (come somma di tutti i distretti)\n",
    "#Con un grafico a barre confrontiamo il numero di votanti per i primi dieci distretti"
   ]
  },
  {
   "cell_type": "code",
   "execution_count": 33,
   "id": "71fa9d7e-21e5-4cba-83d8-9795acfcd89e",
   "metadata": {},
   "outputs": [
    {
     "data": {
      "text/html": [
       "<div>\n",
       "<style scoped>\n",
       "    .dataframe tbody tr th:only-of-type {\n",
       "        vertical-align: middle;\n",
       "    }\n",
       "\n",
       "    .dataframe tbody tr th {\n",
       "        vertical-align: top;\n",
       "    }\n",
       "\n",
       "    .dataframe thead th {\n",
       "        text-align: right;\n",
       "    }\n",
       "</style>\n",
       "<table border=\"1\" class=\"dataframe\">\n",
       "  <thead>\n",
       "    <tr style=\"text-align: right;\">\n",
       "      <th></th>\n",
       "      <th>Coderre</th>\n",
       "      <th>Bergeron</th>\n",
       "      <th>Joly</th>\n",
       "      <th>total</th>\n",
       "      <th>winner</th>\n",
       "      <th>result</th>\n",
       "      <th>district_id</th>\n",
       "    </tr>\n",
       "    <tr>\n",
       "      <th>district</th>\n",
       "      <th></th>\n",
       "      <th></th>\n",
       "      <th></th>\n",
       "      <th></th>\n",
       "      <th></th>\n",
       "      <th></th>\n",
       "      <th></th>\n",
       "    </tr>\n",
       "  </thead>\n",
       "  <tbody>\n",
       "    <tr>\n",
       "      <th>101-Bois-de-Liesse</th>\n",
       "      <td>2481</td>\n",
       "      <td>1829</td>\n",
       "      <td>3024</td>\n",
       "      <td>7334</td>\n",
       "      <td>Joly</td>\n",
       "      <td>plurality</td>\n",
       "      <td>101</td>\n",
       "    </tr>\n",
       "    <tr>\n",
       "      <th>102-Cap-Saint-Jacques</th>\n",
       "      <td>2525</td>\n",
       "      <td>1163</td>\n",
       "      <td>2675</td>\n",
       "      <td>6363</td>\n",
       "      <td>Joly</td>\n",
       "      <td>plurality</td>\n",
       "      <td>102</td>\n",
       "    </tr>\n",
       "    <tr>\n",
       "      <th>11-Sault-au-Récollet</th>\n",
       "      <td>3348</td>\n",
       "      <td>2770</td>\n",
       "      <td>2532</td>\n",
       "      <td>8650</td>\n",
       "      <td>Coderre</td>\n",
       "      <td>plurality</td>\n",
       "      <td>11</td>\n",
       "    </tr>\n",
       "    <tr>\n",
       "      <th>111-Mile-End</th>\n",
       "      <td>1734</td>\n",
       "      <td>4782</td>\n",
       "      <td>2514</td>\n",
       "      <td>9030</td>\n",
       "      <td>Bergeron</td>\n",
       "      <td>majority</td>\n",
       "      <td>111</td>\n",
       "    </tr>\n",
       "    <tr>\n",
       "      <th>112-DeLorimier</th>\n",
       "      <td>1770</td>\n",
       "      <td>5933</td>\n",
       "      <td>3044</td>\n",
       "      <td>10747</td>\n",
       "      <td>Bergeron</td>\n",
       "      <td>majority</td>\n",
       "      <td>112</td>\n",
       "    </tr>\n",
       "  </tbody>\n",
       "</table>\n",
       "</div>"
      ],
      "text/plain": [
       "                       Coderre  Bergeron  Joly  total    winner     result  \\\n",
       "district                                                                     \n",
       "101-Bois-de-Liesse        2481      1829  3024   7334      Joly  plurality   \n",
       "102-Cap-Saint-Jacques     2525      1163  2675   6363      Joly  plurality   \n",
       "11-Sault-au-Récollet      3348      2770  2532   8650   Coderre  plurality   \n",
       "111-Mile-End              1734      4782  2514   9030  Bergeron   majority   \n",
       "112-DeLorimier            1770      5933  3044  10747  Bergeron   majority   \n",
       "\n",
       "                       district_id  \n",
       "district                            \n",
       "101-Bois-de-Liesse             101  \n",
       "102-Cap-Saint-Jacques          102  \n",
       "11-Sault-au-Récollet            11  \n",
       "111-Mile-End                   111  \n",
       "112-DeLorimier                 112  "
      ]
     },
     "execution_count": 33,
     "metadata": {},
     "output_type": "execute_result"
    }
   ],
   "source": [
    "elections = pd.read_csv(\"C:/Users/Marco/Desktop/Epicode/Python/datasets/datasets/altri_dataset/election.csv\", index_col=0)\n",
    "elections.head()"
   ]
  },
  {
   "cell_type": "code",
   "execution_count": 34,
   "id": "dd2d7216-0e61-4b6c-9289-eeeed2d397c6",
   "metadata": {},
   "outputs": [
    {
     "data": {
      "text/plain": [
       "Coderre     149467\n",
       "Bergeron    118637\n",
       "Joly        123062\n",
       "dtype: int64"
      ]
     },
     "execution_count": 34,
     "metadata": {},
     "output_type": "execute_result"
    }
   ],
   "source": [
    "elections.loc[:, [\"Coderre\", \"Bergeron\", \"Joly\"]].sum()"
   ]
  },
  {
   "cell_type": "code",
   "execution_count": 35,
   "id": "341f7484-56ca-4662-a806-d1f754cc0e90",
   "metadata": {},
   "outputs": [
    {
     "data": {
      "text/plain": [
       "<Axes: >"
      ]
     },
     "execution_count": 35,
     "metadata": {},
     "output_type": "execute_result"
    },
    {
     "data": {
      "image/png": "[encoded data removed]",
      "text/plain": [
       "<Figure size 640x480 with 1 Axes>"
      ]
     },
     "metadata": {},
     "output_type": "display_data"
    }
   ],
   "source": [
    "elections.loc[:, [\"Coderre\", \"Bergeron\", \"Joly\"]].sum().plot(kind=\"bar\")"
   ]
  },
  {
   "cell_type": "code",
   "execution_count": 36,
   "id": "1b8da4df-1437-471e-92fa-6d961c13a052",
   "metadata": {},
   "outputs": [
    {
     "data": {
      "text/plain": [
       "<Axes: ylabel='district'>"
      ]
     },
     "execution_count": 36,
     "metadata": {},
     "output_type": "execute_result"
    },
    {
     "data": {
      "image/png": "[encoded data removed]",
      "text/plain": [
       "<Figure size 640x480 with 1 Axes>"
      ]
     },
     "metadata": {},
     "output_type": "display_data"
    }
   ],
   "source": [
    "elections.head(10).total.plot(kind=\"barh\")"
   ]
  },
  {
   "cell_type": "code",
   "execution_count": null,
   "id": "6713da7c-8adf-4e05-a8ad-3a1293b38955",
   "metadata": {},
   "outputs": [],
   "source": [
    "#Esercizio_6\n",
    "#Scarichiamo il file party_in_nyc.csv dal dataset https://www.kaggle.com/datasets/somesnm/partynyc relativo a quante volte è stata chiamata la polizia per delle feste eccessivamente rumorose e:\n",
    "\n",
    "#Realizziamo un grafico che mostra quante chiamate ci sono state per ogni città per tutti i tipi di locale\n",
    "#Qual è il rettangolo di latitudine e longitudine considerato dal dataset?\n",
    "#Quante segnalazioni sono state fatte per case private?\n",
    "#Con Seaborn visualizziamo il conteggio delle segnalazioni avvenute in ogni quartiere; che succede se aggiungiamo il parametro hue=\"Location Type\"?\n"
   ]
  },
  {
   "cell_type": "code",
   "execution_count": 37,
   "id": "f3d0fc9c-ce5c-4c6e-8e33-fcf9242f74e1",
   "metadata": {},
   "outputs": [
    {
     "data": {
      "text/html": [
       "<div>\n",
       "<style scoped>\n",
       "    .dataframe tbody tr th:only-of-type {\n",
       "        vertical-align: middle;\n",
       "    }\n",
       "\n",
       "    .dataframe tbody tr th {\n",
       "        vertical-align: top;\n",
       "    }\n",
       "\n",
       "    .dataframe thead th {\n",
       "        text-align: right;\n",
       "    }\n",
       "</style>\n",
       "<table border=\"1\" class=\"dataframe\">\n",
       "  <thead>\n",
       "    <tr style=\"text-align: right;\">\n",
       "      <th></th>\n",
       "      <th>Created Date</th>\n",
       "      <th>Closed Date</th>\n",
       "      <th>Location Type</th>\n",
       "      <th>Incident Zip</th>\n",
       "      <th>City</th>\n",
       "      <th>Borough</th>\n",
       "      <th>Latitude</th>\n",
       "      <th>Longitude</th>\n",
       "    </tr>\n",
       "  </thead>\n",
       "  <tbody>\n",
       "    <tr>\n",
       "      <th>0</th>\n",
       "      <td>2015-12-31 00:01:15</td>\n",
       "      <td>2015-12-31 03:48:04</td>\n",
       "      <td>Store/Commercial</td>\n",
       "      <td>10034.0</td>\n",
       "      <td>NEW YORK</td>\n",
       "      <td>MANHATTAN</td>\n",
       "      <td>40.866183</td>\n",
       "      <td>-73.918930</td>\n",
       "    </tr>\n",
       "    <tr>\n",
       "      <th>1</th>\n",
       "      <td>2015-12-31 00:02:48</td>\n",
       "      <td>2015-12-31 04:36:13</td>\n",
       "      <td>Store/Commercial</td>\n",
       "      <td>10040.0</td>\n",
       "      <td>NEW YORK</td>\n",
       "      <td>MANHATTAN</td>\n",
       "      <td>40.859324</td>\n",
       "      <td>-73.931237</td>\n",
       "    </tr>\n",
       "    <tr>\n",
       "      <th>2</th>\n",
       "      <td>2015-12-31 00:03:25</td>\n",
       "      <td>2015-12-31 00:40:15</td>\n",
       "      <td>Residential Building/House</td>\n",
       "      <td>10026.0</td>\n",
       "      <td>NEW YORK</td>\n",
       "      <td>MANHATTAN</td>\n",
       "      <td>40.799415</td>\n",
       "      <td>-73.953371</td>\n",
       "    </tr>\n",
       "    <tr>\n",
       "      <th>3</th>\n",
       "      <td>2015-12-31 00:03:26</td>\n",
       "      <td>2015-12-31 01:53:38</td>\n",
       "      <td>Residential Building/House</td>\n",
       "      <td>11231.0</td>\n",
       "      <td>BROOKLYN</td>\n",
       "      <td>BROOKLYN</td>\n",
       "      <td>40.678285</td>\n",
       "      <td>-73.994668</td>\n",
       "    </tr>\n",
       "    <tr>\n",
       "      <th>4</th>\n",
       "      <td>2015-12-31 00:05:10</td>\n",
       "      <td>2015-12-31 03:49:10</td>\n",
       "      <td>Residential Building/House</td>\n",
       "      <td>10033.0</td>\n",
       "      <td>NEW YORK</td>\n",
       "      <td>MANHATTAN</td>\n",
       "      <td>40.850304</td>\n",
       "      <td>-73.938516</td>\n",
       "    </tr>\n",
       "    <tr>\n",
       "      <th>...</th>\n",
       "      <td>...</td>\n",
       "      <td>...</td>\n",
       "      <td>...</td>\n",
       "      <td>...</td>\n",
       "      <td>...</td>\n",
       "      <td>...</td>\n",
       "      <td>...</td>\n",
       "      <td>...</td>\n",
       "    </tr>\n",
       "    <tr>\n",
       "      <th>225409</th>\n",
       "      <td>2016-12-31 23:53:57</td>\n",
       "      <td>2017-01-01 00:01:41</td>\n",
       "      <td>Store/Commercial</td>\n",
       "      <td>10003.0</td>\n",
       "      <td>NEW YORK</td>\n",
       "      <td>MANHATTAN</td>\n",
       "      <td>40.730073</td>\n",
       "      <td>-73.986585</td>\n",
       "    </tr>\n",
       "    <tr>\n",
       "      <th>225410</th>\n",
       "      <td>2016-12-31 23:55:01</td>\n",
       "      <td>2017-01-01 02:05:06</td>\n",
       "      <td>Residential Building/House</td>\n",
       "      <td>10032.0</td>\n",
       "      <td>NEW YORK</td>\n",
       "      <td>MANHATTAN</td>\n",
       "      <td>40.833144</td>\n",
       "      <td>-73.944617</td>\n",
       "    </tr>\n",
       "    <tr>\n",
       "      <th>225411</th>\n",
       "      <td>2016-12-31 23:56:20</td>\n",
       "      <td>2017-01-01 13:34:00</td>\n",
       "      <td>Residential Building/House</td>\n",
       "      <td>11104.0</td>\n",
       "      <td>SUNNYSIDE</td>\n",
       "      <td>QUEENS</td>\n",
       "      <td>40.743662</td>\n",
       "      <td>-73.923067</td>\n",
       "    </tr>\n",
       "    <tr>\n",
       "      <th>225412</th>\n",
       "      <td>2016-12-31 23:56:41</td>\n",
       "      <td>2017-01-01 03:49:12</td>\n",
       "      <td>Residential Building/House</td>\n",
       "      <td>10040.0</td>\n",
       "      <td>NEW YORK</td>\n",
       "      <td>MANHATTAN</td>\n",
       "      <td>40.858447</td>\n",
       "      <td>-73.929279</td>\n",
       "    </tr>\n",
       "    <tr>\n",
       "      <th>225413</th>\n",
       "      <td>2016-12-31 23:58:52</td>\n",
       "      <td>2017-01-01 00:59:52</td>\n",
       "      <td>Residential Building/House</td>\n",
       "      <td>10463.0</td>\n",
       "      <td>BRONX</td>\n",
       "      <td>BRONX</td>\n",
       "      <td>40.877450</td>\n",
       "      <td>-73.910498</td>\n",
       "    </tr>\n",
       "  </tbody>\n",
       "</table>\n",
       "<p>225414 rows × 8 columns</p>\n",
       "</div>"
      ],
      "text/plain": [
       "               Created Date          Closed Date               Location Type  \\\n",
       "0       2015-12-31 00:01:15  2015-12-31 03:48:04            Store/Commercial   \n",
       "1       2015-12-31 00:02:48  2015-12-31 04:36:13            Store/Commercial   \n",
       "2       2015-12-31 00:03:25  2015-12-31 00:40:15  Residential Building/House   \n",
       "3       2015-12-31 00:03:26  2015-12-31 01:53:38  Residential Building/House   \n",
       "4       2015-12-31 00:05:10  2015-12-31 03:49:10  Residential Building/House   \n",
       "...                     ...                  ...                         ...   \n",
       "225409  2016-12-31 23:53:57  2017-01-01 00:01:41            Store/Commercial   \n",
       "225410  2016-12-31 23:55:01  2017-01-01 02:05:06  Residential Building/House   \n",
       "225411  2016-12-31 23:56:20  2017-01-01 13:34:00  Residential Building/House   \n",
       "225412  2016-12-31 23:56:41  2017-01-01 03:49:12  Residential Building/House   \n",
       "225413  2016-12-31 23:58:52  2017-01-01 00:59:52  Residential Building/House   \n",
       "\n",
       "        Incident Zip       City    Borough   Latitude  Longitude  \n",
       "0            10034.0   NEW YORK  MANHATTAN  40.866183 -73.918930  \n",
       "1            10040.0   NEW YORK  MANHATTAN  40.859324 -73.931237  \n",
       "2            10026.0   NEW YORK  MANHATTAN  40.799415 -73.953371  \n",
       "3            11231.0   BROOKLYN   BROOKLYN  40.678285 -73.994668  \n",
       "4            10033.0   NEW YORK  MANHATTAN  40.850304 -73.938516  \n",
       "...              ...        ...        ...        ...        ...  \n",
       "225409       10003.0   NEW YORK  MANHATTAN  40.730073 -73.986585  \n",
       "225410       10032.0   NEW YORK  MANHATTAN  40.833144 -73.944617  \n",
       "225411       11104.0  SUNNYSIDE     QUEENS  40.743662 -73.923067  \n",
       "225412       10040.0   NEW YORK  MANHATTAN  40.858447 -73.929279  \n",
       "225413       10463.0      BRONX      BRONX  40.877450 -73.910498  \n",
       "\n",
       "[225414 rows x 8 columns]"
      ]
     },
     "execution_count": 37,
     "metadata": {},
     "output_type": "execute_result"
    }
   ],
   "source": [
    "party = pd.read_csv(\"C:/Users/Marco/Desktop/Epicode/Python/datasets/datasets/altri_dataset/party_in_nyc.csv\")\n",
    "party"
   ]
  },
  {
   "cell_type": "code",
   "execution_count": 38,
   "id": "eb54e94a-cdf6-4e94-ac82-0f336c45f628",
   "metadata": {},
   "outputs": [
    {
     "data": {
      "text/plain": [
       "City\n",
       "ARVERNE                  510\n",
       "ASTORIA                 3456\n",
       "BAYSIDE                  232\n",
       "BELLEROSE                160\n",
       "BREEZY POINT               1\n",
       "BRONX                  47673\n",
       "BROOKLYN               68909\n",
       "CAMBRIA HEIGHTS          171\n",
       "CENTRAL PARK              48\n",
       "COLLEGE POINT            529\n",
       "CORONA                  2395\n",
       "EAST ELMHURST           1258\n",
       "ELMHURST                1260\n",
       "FAR ROCKAWAY            1535\n",
       "FLORAL PARK               13\n",
       "FLUSHING                1761\n",
       "FOREST HILLS             532\n",
       "FRESH MEADOWS            613\n",
       "GLEN OAKS                123\n",
       "HOLLIS                   670\n",
       "HOWARD BEACH             438\n",
       "JACKSON HEIGHTS         1229\n",
       "JAMAICA                 4041\n",
       "KEW GARDENS              364\n",
       "LITTLE NECK              131\n",
       "LONG ISLAND CITY        1072\n",
       "MASPETH                  409\n",
       "MIDDLE VILLAGE           217\n",
       "NEW HYDE PARK             11\n",
       "NEW YORK               64112\n",
       "OAKLAND GARDENS          113\n",
       "OZONE PARK              1494\n",
       "QUEENS                    24\n",
       "QUEENS VILLAGE           954\n",
       "REGO PARK                319\n",
       "RICHMOND HILL           1079\n",
       "RIDGEWOOD               2228\n",
       "ROCKAWAY PARK            378\n",
       "ROSEDALE                 366\n",
       "SAINT ALBANS             579\n",
       "SOUTH OZONE PARK        1852\n",
       "SOUTH RICHMOND HILL     1764\n",
       "SPRINGFIELD GARDENS      470\n",
       "STATEN ISLAND           5411\n",
       "SUNNYSIDE                691\n",
       "WHITESTONE               429\n",
       "WOODHAVEN               1116\n",
       "WOODSIDE                1284\n",
       "dtype: int64"
      ]
     },
     "execution_count": 38,
     "metadata": {},
     "output_type": "execute_result"
    }
   ],
   "source": [
    "party.groupby(\"City\").size()"
   ]
  },
  {
   "cell_type": "code",
   "execution_count": 39,
   "id": "54033fc7-01d7-4d36-a180-3840b791d6bd",
   "metadata": {},
   "outputs": [
    {
     "name": "stdout",
     "output_type": "stream",
     "text": [
      "40.498819681472185 40.91217840308113 -74.25127710072611 -73.70230256557906\n"
     ]
    }
   ],
   "source": [
    "print(party.Latitude.min(), party.Latitude.max(), party.Longitude.min(), party.Longitude.max())"
   ]
  },
  {
   "cell_type": "code",
   "execution_count": 40,
   "id": "152f9edd-22ec-44bc-831b-25401e774032",
   "metadata": {},
   "outputs": [
    {
     "data": {
      "text/plain": [
       "array(['Store/Commercial', 'Residential Building/House',\n",
       "       'Club/Bar/Restaurant', 'Street/Sidewalk', 'Park/Playground',\n",
       "       'House of Worship'], dtype=object)"
      ]
     },
     "execution_count": 40,
     "metadata": {},
     "output_type": "execute_result"
    }
   ],
   "source": [
    "party.loc[:, \"Location Type\"].unique()"
   ]
  },
  {
   "cell_type": "code",
   "execution_count": 41,
   "id": "f6de62e5-a9f2-4989-a33f-08d0e7414303",
   "metadata": {},
   "outputs": [
    {
     "data": {
      "text/plain": [
       "146040"
      ]
     },
     "execution_count": 41,
     "metadata": {},
     "output_type": "execute_result"
    }
   ],
   "source": [
    "filtro = party.loc[:, \"Location Type\"] == \"Residential Building/House\"\n",
    "party.loc[filtro].shape[0]"
   ]
  },
  {
   "cell_type": "code",
   "execution_count": 44,
   "id": "cbd110e7-117b-4476-a6de-53e0643d4ba2",
   "metadata": {},
   "outputs": [
    {
     "data": {
      "text/plain": [
       "<Axes: xlabel='count', ylabel='Borough'>"
      ]
     },
     "execution_count": 44,
     "metadata": {},
     "output_type": "execute_result"
    },
    {
     "data": {
      "image/png": "[encoded data removed]",
      "text/plain": [
       "<Figure size 640x480 with 1 Axes>"
      ]
     },
     "metadata": {},
     "output_type": "display_data"
    }
   ],
   "source": [
    "sns.countplot(data=party, y=\"Borough\")"
   ]
  },
  {
   "cell_type": "code",
   "execution_count": 45,
   "id": "cecfcab4-0753-455c-b413-757ad1ca6cda",
   "metadata": {},
   "outputs": [
    {
     "data": {
      "text/plain": [
       "<Axes: xlabel='count', ylabel='Borough'>"
      ]
     },
     "execution_count": 45,
     "metadata": {},
     "output_type": "execute_result"
    },
    {
     "data": {
      "image/png": "[encoded data removed]",
      "text/plain": [
       "<Figure size 640x480 with 1 Axes>"
      ]
     },
     "metadata": {},
     "output_type": "display_data"
    }
   ],
   "source": [
    "sns.countplot(data=party, y=\"Borough\", hue=\"Location Type\")"
   ]
  },
  {
   "cell_type": "code",
   "execution_count": null,
   "id": "3410826e-f130-4318-9ab1-198ba44697f2",
   "metadata": {},
   "outputs": [],
   "source": []
  }
 ],
 "metadata": {
  "kernelspec": {
   "display_name": "Python [conda env:base] *",
   "language": "python",
   "name": "conda-base-py"
  },
  "language_info": {
   "codemirror_mode": {
    "name": "ipython",
    "version": 3
   },
   "file_extension": ".py",
   "mimetype": "text/x-python",
   "name": "python",
   "nbconvert_exporter": "python",
   "pygments_lexer": "ipython3",
   "version": "3.12.7"
  }
 },
 "nbformat": 4,
 "nbformat_minor": 5
}
