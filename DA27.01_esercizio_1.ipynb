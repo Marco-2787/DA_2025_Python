{
 "cells": [
  {
   "cell_type": "code",
   "execution_count": 2,
   "id": "196dd202-4a20-4197-8ffb-19a2657d2ba2",
   "metadata": {},
   "outputs": [],
   "source": [
    "NumeroStudenti = 25"
   ]
  },
  {
   "cell_type": "code",
   "execution_count": 6,
   "id": "17fe1e6a-9f20-47be-8730-ce2ae4315550",
   "metadata": {},
   "outputs": [
    {
     "name": "stdout",
     "output_type": "stream",
     "text": [
      "25\n"
     ]
    }
   ],
   "source": [
    "print (NumeroStudenti)"
   ]
  },
  {
   "cell_type": "code",
   "execution_count": 14,
   "id": "c9c9bdc3-d61e-4a44-ac9e-5ea913e9eca6",
   "metadata": {},
   "outputs": [],
   "source": [
    "NuoviStudenti = 3"
   ]
  },
  {
   "cell_type": "code",
   "execution_count": 20,
   "id": "6f0001b8-1632-4fe0-ae02-3ad6eba1c067",
   "metadata": {},
   "outputs": [
    {
     "name": "stdout",
     "output_type": "stream",
     "text": [
      "3\n"
     ]
    }
   ],
   "source": [
    "print (NuoviStudenti)"
   ]
  },
  {
   "cell_type": "code",
   "execution_count": 28,
   "id": "7423453f-0362-4ead-a1f0-f311a469b70f",
   "metadata": {},
   "outputs": [],
   "source": [
    "StudTot = NumeroStudenti+NuoviStudenti"
   ]
  },
  {
   "cell_type": "code",
   "execution_count": 30,
   "id": "ad686fb7-580e-46df-bc37-fb60ecfa7f60",
   "metadata": {},
   "outputs": [
    {
     "name": "stdout",
     "output_type": "stream",
     "text": [
      "28\n"
     ]
    }
   ],
   "source": [
    "print (StudTot)"
   ]
  },
  {
   "cell_type": "code",
   "execution_count": 34,
   "id": "014fdd85-129c-4534-a11a-19ce3541e26a",
   "metadata": {},
   "outputs": [],
   "source": [
    "Frase = \"Epicode\""
   ]
  },
  {
   "cell_type": "code",
   "execution_count": 36,
   "id": "a29ec389-7f8c-442b-a6b0-19c2e36eb26a",
   "metadata": {},
   "outputs": [
    {
     "name": "stdout",
     "output_type": "stream",
     "text": [
      "Epicode\n"
     ]
    }
   ],
   "source": [
    "print (Frase)"
   ]
  },
  {
   "cell_type": "code",
   "execution_count": 5,
   "id": "8c60e72c-58a9-46a8-ba52-3988d4982d0b",
   "metadata": {},
   "outputs": [],
   "source": [
    "X = 10"
   ]
  },
  {
   "cell_type": "code",
   "execution_count": 7,
   "id": "9f8444d8-bd88-4b66-b23b-6c56bbce45f5",
   "metadata": {},
   "outputs": [
    {
     "name": "stdout",
     "output_type": "stream",
     "text": [
      "10\n"
     ]
    }
   ],
   "source": [
    "print (X)"
   ]
  },
  {
   "cell_type": "code",
   "execution_count": 9,
   "id": "04c9b68d-8157-4ffc-b4fd-2514cf6bb8b5",
   "metadata": {},
   "outputs": [],
   "source": [
    "X += 2"
   ]
  },
  {
   "cell_type": "code",
   "execution_count": 11,
   "id": "a34928a9-bb28-4942-a901-4b77a7f5ed89",
   "metadata": {},
   "outputs": [
    {
     "name": "stdout",
     "output_type": "stream",
     "text": [
      "12\n"
     ]
    }
   ],
   "source": [
    "print (X)"
   ]
  },
  {
   "cell_type": "code",
   "execution_count": 13,
   "id": "e77ac3b8-37e2-41ea-8f4a-fbe7fde5e4e8",
   "metadata": {},
   "outputs": [],
   "source": [
    "X *= 3"
   ]
  },
  {
   "cell_type": "code",
   "execution_count": 15,
   "id": "87b802cf-c68f-4769-93c5-5fcb1f5687ef",
   "metadata": {},
   "outputs": [
    {
     "name": "stdout",
     "output_type": "stream",
     "text": [
      "36\n"
     ]
    }
   ],
   "source": [
    "print (X)"
   ]
  },
  {
   "cell_type": "code",
   "execution_count": 74,
   "id": "8f03b598-de6c-40b7-bfb8-5ff383181bc6",
   "metadata": {},
   "outputs": [],
   "source": [
    "str1 = \"Windows\""
   ]
  },
  {
   "cell_type": "code",
   "execution_count": 78,
   "id": "4582c933-16bc-4d74-b135-d0d77a308811",
   "metadata": {},
   "outputs": [],
   "source": [
    "str2 = \"Excel\""
   ]
  },
  {
   "cell_type": "code",
   "execution_count": 80,
   "id": "7e3f93c2-d5b4-4638-a0dd-fa2dbd20f2ca",
   "metadata": {},
   "outputs": [],
   "source": [
    "str3 = \"Powerpoint\""
   ]
  },
  {
   "cell_type": "code",
   "execution_count": 82,
   "id": "35ae8fe9-2319-4b4e-b0eb-6ca53d793c80",
   "metadata": {},
   "outputs": [],
   "source": [
    "str4 = \"Word\""
   ]
  },
  {
   "cell_type": "code",
   "execution_count": 84,
   "id": "99dc049d-ab0f-47b8-b7ed-00559d716693",
   "metadata": {},
   "outputs": [
    {
     "data": {
      "text/plain": [
       "7"
      ]
     },
     "execution_count": 84,
     "metadata": {},
     "output_type": "execute_result"
    }
   ],
   "source": [
    "len (str1)"
   ]
  },
  {
   "cell_type": "code",
   "execution_count": 86,
   "id": "ca5720c3-d39a-42c9-a548-a8549d0bedc7",
   "metadata": {},
   "outputs": [
    {
     "data": {
      "text/plain": [
       "5"
      ]
     },
     "execution_count": 86,
     "metadata": {},
     "output_type": "execute_result"
    }
   ],
   "source": [
    "len (str2)"
   ]
  },
  {
   "cell_type": "code",
   "execution_count": 88,
   "id": "e3732be4-74c4-4c45-99d9-0039641d1f38",
   "metadata": {},
   "outputs": [
    {
     "data": {
      "text/plain": [
       "10"
      ]
     },
     "execution_count": 88,
     "metadata": {},
     "output_type": "execute_result"
    }
   ],
   "source": [
    "len (str3)"
   ]
  },
  {
   "cell_type": "code",
   "execution_count": 90,
   "id": "6a4d5cc6-a09c-4807-9da9-492524f447c6",
   "metadata": {},
   "outputs": [
    {
     "data": {
      "text/plain": [
       "4"
      ]
     },
     "execution_count": 90,
     "metadata": {},
     "output_type": "execute_result"
    }
   ],
   "source": [
    "len (str4)"
   ]
  },
  {
   "cell_type": "code",
   "execution_count": 92,
   "id": "66150926-92ab-48e0-812d-6ecaa5d81964",
   "metadata": {},
   "outputs": [],
   "source": [
    "AnnoInGiorni = 365"
   ]
  },
  {
   "cell_type": "code",
   "execution_count": 94,
   "id": "df0d6f42-783d-4cc3-904b-8a523d482e24",
   "metadata": {},
   "outputs": [],
   "source": [
    "AnnoInOre = AnnoInGiorni*24"
   ]
  },
  {
   "cell_type": "code",
   "execution_count": 98,
   "id": "d6cf39d1-862e-4f54-923e-ee338d8701c4",
   "metadata": {},
   "outputs": [
    {
     "name": "stdout",
     "output_type": "stream",
     "text": [
      "8760\n"
     ]
    }
   ],
   "source": [
    "print (AnnoInOre)"
   ]
  },
  {
   "cell_type": "code",
   "execution_count": 108,
   "id": "a57c147a-18f7-43f5-b1d1-7d58b6f7181a",
   "metadata": {},
   "outputs": [],
   "source": [
    "AnnoInMinuti = AnnoInOre*60"
   ]
  },
  {
   "cell_type": "code",
   "execution_count": 110,
   "id": "9f6261b1-d327-45be-b47b-d037963b8c03",
   "metadata": {},
   "outputs": [
    {
     "name": "stdout",
     "output_type": "stream",
     "text": [
      "525600\n"
     ]
    }
   ],
   "source": [
    "print (AnnoInMinuti)"
   ]
  },
  {
   "cell_type": "code",
   "execution_count": 112,
   "id": "35bed8a4-7a8b-4a3f-a000-0343235f265b",
   "metadata": {},
   "outputs": [],
   "source": [
    "AnnoInSecondi = AnnoInMinuti*60"
   ]
  },
  {
   "cell_type": "code",
   "execution_count": 114,
   "id": "d85bf58b-3a80-49f0-92ca-373791f3a8b7",
   "metadata": {},
   "outputs": [
    {
     "name": "stdout",
     "output_type": "stream",
     "text": [
      "31536000\n"
     ]
    }
   ],
   "source": [
    "print (AnnoInSecondi)"
   ]
  },
  {
   "cell_type": "code",
   "execution_count": 116,
   "id": "c67b52cf-244f-43d6-a7ed-0d5708c00896",
   "metadata": {},
   "outputs": [],
   "source": [
    "my_string = \"I am studying Python\""
   ]
  },
  {
   "cell_type": "code",
   "execution_count": 120,
   "id": "fa1ad73e-cc8c-427d-ba81-281e4ce78915",
   "metadata": {},
   "outputs": [
    {
     "data": {
      "text/plain": [
       "'I AM STUDYING PYTHON'"
      ]
     },
     "execution_count": 120,
     "metadata": {},
     "output_type": "execute_result"
    }
   ],
   "source": [
    "my_string.upper ()"
   ]
  },
  {
   "cell_type": "code",
   "execution_count": 122,
   "id": "bdfe57b3-ea8a-4d95-9362-2dd7fd3a8c18",
   "metadata": {},
   "outputs": [
    {
     "data": {
      "text/plain": [
       "'i am studying python'"
      ]
     },
     "execution_count": 122,
     "metadata": {},
     "output_type": "execute_result"
    }
   ],
   "source": [
    "my_string.lower ()"
   ]
  },
  {
   "cell_type": "code",
   "execution_count": 124,
   "id": "3b3716bf-fc61-49b6-af21-4ae7503fd32f",
   "metadata": {},
   "outputs": [
    {
     "data": {
      "text/plain": [
       "'I am studying a lot'"
      ]
     },
     "execution_count": 124,
     "metadata": {},
     "output_type": "execute_result"
    }
   ],
   "source": [
    "my_string.replace (\"Python\",\"a lot\")"
   ]
  },
  {
   "cell_type": "code",
   "execution_count": 126,
   "id": "9b292d4b-d904-4e67-b506-095ce0d6ae1c",
   "metadata": {},
   "outputs": [
    {
     "data": {
      "text/plain": [
       "'I am studying Python'"
      ]
     },
     "execution_count": 126,
     "metadata": {},
     "output_type": "execute_result"
    }
   ],
   "source": [
    "my_string.strip ()"
   ]
  },
  {
   "cell_type": "code",
   "execution_count": 128,
   "id": "6b254f91-0669-4280-b789-e112f0eec6ab",
   "metadata": {},
   "outputs": [
    {
     "data": {
      "text/plain": [
       "['I', 'am', 'studying', 'Python']"
      ]
     },
     "execution_count": 128,
     "metadata": {},
     "output_type": "execute_result"
    }
   ],
   "source": [
    "my_string.split()"
   ]
  },
  {
   "cell_type": "code",
   "execution_count": 132,
   "id": "1ecbbaec-1135-41de-a38a-798c25458675",
   "metadata": {},
   "outputs": [],
   "source": [
    "studenti = [\"Alex\",\"Bob\",\"Cindy\",\"Dan\",\"Emma\",\"Faith\",\"Grace\",\"Henry\"]"
   ]
  },
  {
   "cell_type": "code",
   "execution_count": 134,
   "id": "b55ce074-ff59-4b9d-bdd1-bcf1a8ee097f",
   "metadata": {},
   "outputs": [],
   "source": [
    "corsi = [\"Cybersecurity\",\"Data Analyst\", \"Backend\", \"Frontend\", \"DataAnalyst\", \"Backend\"]"
   ]
  },
  {
   "cell_type": "code",
   "execution_count": 136,
   "id": "26e2e342-da90-4095-beea-96d937d77a9d",
   "metadata": {},
   "outputs": [],
   "source": [
    "corsi.append (\"Frontend\")"
   ]
  },
  {
   "cell_type": "code",
   "execution_count": 138,
   "id": "255cab6e-f52b-4123-8303-0c4b41527fc9",
   "metadata": {},
   "outputs": [],
   "source": [
    "corsi.append (\"Cybersecurity\")"
   ]
  },
  {
   "cell_type": "code",
   "execution_count": 140,
   "id": "99ec5120-83a4-4c95-af27-389ae8ceae30",
   "metadata": {},
   "outputs": [
    {
     "name": "stdout",
     "output_type": "stream",
     "text": [
      "['Cybersecurity', 'Data Analyst', 'Backend', 'Frontend', 'DataAnalyst', 'Backend', 'Frontend', 'Cybersecurity']\n"
     ]
    }
   ],
   "source": [
    "print (corsi)"
   ]
  },
  {
   "cell_type": "code",
   "execution_count": 142,
   "id": "a1885b55-04cb-455f-bafc-166e79ff6ac1",
   "metadata": {},
   "outputs": [
    {
     "name": "stdout",
     "output_type": "stream",
     "text": [
      "['Alex', 'Bob', 'Cindy', 'Dan', 'Emma', 'Faith', 'Grace', 'Henry']\n"
     ]
    }
   ],
   "source": [
    "print (studenti)"
   ]
  },
  {
   "cell_type": "code",
   "execution_count": null,
   "id": "d45ecf8b-2281-480b-9b18-4b081ab2d0d8",
   "metadata": {},
   "outputs": [],
   "source": []
  }
 ],
 "metadata": {
  "kernelspec": {
   "display_name": "Python [conda env:base] *",
   "language": "python",
   "name": "conda-base-py"
  },
  "language_info": {
   "codemirror_mode": {
    "name": "ipython",
    "version": 3
   },
   "file_extension": ".py",
   "mimetype": "text/x-python",
   "name": "python",
   "nbconvert_exporter": "python",
   "pygments_lexer": "ipython3",
   "version": "3.12.7"
  }
 },
 "nbformat": 4,
 "nbformat_minor": 5
}
