{
 "cells": [
  {
   "cell_type": "code",
   "execution_count": null,
   "id": "5e0ef4dd-8818-4015-b274-a190373f7570",
   "metadata": {},
   "outputs": [],
   "source": [
    "#Esercizio_1"
   ]
  },
  {
   "cell_type": "code",
   "execution_count": null,
   "id": "19c02424-61de-487c-a558-f32d1a62c7d9",
   "metadata": {},
   "outputs": [],
   "source": [
    "Nome_Scuola=\"Epicode\""
   ]
  },
  {
   "cell_type": "code",
   "execution_count": null,
   "id": "a84e04fe-c8d7-4862-8dc8-a28ae53b8343",
   "metadata": {},
   "outputs": [],
   "source": [
    "I=0 #indice iniziale"
   ]
  },
  {
   "cell_type": "code",
   "execution_count": null,
   "id": "a9db3f0f-9e78-448c-a4cf-edd7ad76642a",
   "metadata": {},
   "outputs": [],
   "source": [
    "len(Nome_Scuola)"
   ]
  },
  {
   "cell_type": "code",
   "execution_count": null,
   "id": "1bafe270-6d4a-4e42-bd3f-1debcf699ff4",
   "metadata": {},
   "outputs": [],
   "source": [
    "while I < len(Nome_Scuola):\n",
    "    print(Nome_Scuola[I]) #stampa il carattere\n",
    "    I+=1 #fattore incrementante"
   ]
  },
  {
   "cell_type": "code",
   "execution_count": null,
   "id": "6e8b6282-3cae-4785-b00e-56c22df1a757",
   "metadata": {},
   "outputs": [],
   "source": []
  },
  {
   "cell_type": "code",
   "execution_count": null,
   "id": "72d86f42-3c49-48c9-b8aa-b267dcce7a8f",
   "metadata": {},
   "outputs": [],
   "source": [
    "#Esercizio_2"
   ]
  },
  {
   "cell_type": "code",
   "execution_count": null,
   "id": "b45c4f98-d3a6-4825-a212-1a51951da828",
   "metadata": {},
   "outputs": [],
   "source": [
    "N=0 #indice iniziale"
   ]
  },
  {
   "cell_type": "code",
   "execution_count": null,
   "id": "17509d98-3cef-430c-b3f7-d5e2ce8de1c1",
   "metadata": {},
   "outputs": [],
   "source": [
    "while N<21:\n",
    "    print(N) #stampa il carattere\n",
    "    N+=1 #fattore incrementante"
   ]
  },
  {
   "cell_type": "code",
   "execution_count": null,
   "id": "45be370a-2f36-41ec-bd4f-d5ffe76d4841",
   "metadata": {},
   "outputs": [],
   "source": []
  },
  {
   "cell_type": "code",
   "execution_count": null,
   "id": "d9d8ac10-ed93-4732-baf6-82745eabd0e8",
   "metadata": {},
   "outputs": [],
   "source": [
    "#Esercizio_3"
   ]
  },
  {
   "cell_type": "code",
   "execution_count": null,
   "id": "0d0d60b4-08be-4431-ad0e-85981f734a46",
   "metadata": {},
   "outputs": [],
   "source": [
    "I=0 #indice iniziale"
   ]
  },
  {
   "cell_type": "code",
   "execution_count": null,
   "id": "be3eba58-657f-4843-bf53-a097028172d9",
   "metadata": {},
   "outputs": [],
   "source": [
    "while I<10:\n",
    "    print(2**I) #stampa il carattere\n",
    "    I+=1 #fattore incrementante"
   ]
  },
  {
   "cell_type": "code",
   "execution_count": null,
   "id": "ea8117bf-dca5-4789-b3cc-9093f4a7dc4e",
   "metadata": {},
   "outputs": [],
   "source": []
  },
  {
   "cell_type": "code",
   "execution_count": null,
   "id": "60e9a9e5-fa0c-447f-92a4-687bda6518bf",
   "metadata": {},
   "outputs": [],
   "source": [
    "#Esercizio_4"
   ]
  },
  {
   "cell_type": "code",
   "execution_count": 11,
   "id": "4690520a-feee-49fa-bd27-4a9f079a3ddf",
   "metadata": {},
   "outputs": [],
   "source": [
    "I=0 #indice iniziale"
   ]
  },
  {
   "cell_type": "code",
   "execution_count": 1,
   "id": "3486c990-7fda-41a7-abfe-bc0d7b96b5ae",
   "metadata": {},
   "outputs": [
    {
     "name": "stdin",
     "output_type": "stream",
     "text": [
      "inserisci un numero 10\n"
     ]
    }
   ],
   "source": [
    "N=int(input(\"inserisci un numero\"))"
   ]
  },
  {
   "cell_type": "code",
   "execution_count": 9,
   "id": "629e5d0e-5dd3-4494-864c-5a0549e137e0",
   "metadata": {},
   "outputs": [
    {
     "name": "stdout",
     "output_type": "stream",
     "text": [
      "1\n",
      "2\n",
      "4\n",
      "8\n",
      "16\n",
      "32\n",
      "64\n",
      "128\n",
      "256\n",
      "512\n",
      "1024\n"
     ]
    }
   ],
   "source": [
    "while I<=N:\n",
    "    print(2**I) #stampa il carattere\n",
    "    I+=1 #fattore incrementante"
   ]
  },
  {
   "cell_type": "code",
   "execution_count": null,
   "id": "1ad6b914-cd9d-4234-913a-e9a115a5c367",
   "metadata": {},
   "outputs": [],
   "source": []
  },
  {
   "cell_type": "code",
   "execution_count": null,
   "id": "a6d71445-9a59-4f52-abc9-25f8b0e87287",
   "metadata": {},
   "outputs": [],
   "source": [
    "#Esercizio_5"
   ]
  },
  {
   "cell_type": "code",
   "execution_count": 32,
   "id": "21e4c6f3-0d3c-410c-ac66-22591e6a9021",
   "metadata": {},
   "outputs": [],
   "source": [
    "I=0 #indice iniziale"
   ]
  },
  {
   "cell_type": "code",
   "execution_count": 36,
   "id": "8ea448e6-9d20-4b15-ad60-3d44d4561047",
   "metadata": {},
   "outputs": [
    {
     "name": "stdout",
     "output_type": "stream",
     "text": [
      "1\n",
      "2\n",
      "4\n",
      "8\n",
      "16\n",
      "32\n",
      "64\n",
      "128\n",
      "256\n",
      "512\n",
      "1024\n",
      "2048\n",
      "4096\n",
      "8192\n",
      "16384\n"
     ]
    }
   ],
   "source": [
    "while (2**I)<25000:\n",
    "    print(2**I) #stampa il carattere\n",
    "    I+=1 #fattore incrementante"
   ]
  },
  {
   "cell_type": "code",
   "execution_count": null,
   "id": "6b2319dc-0f4f-4c85-b797-6d1b77a248ab",
   "metadata": {},
   "outputs": [],
   "source": []
  },
  {
   "cell_type": "code",
   "execution_count": null,
   "id": "152cba09-2e01-4dfb-bb0f-43e77296706b",
   "metadata": {},
   "outputs": [],
   "source": [
    "#Esercizio_6"
   ]
  },
  {
   "cell_type": "code",
   "execution_count": null,
   "id": "c9983bf4-5c3a-46b9-9251-80b52d3b53b1",
   "metadata": {},
   "outputs": [],
   "source": [
    "#Esercizio_7"
   ]
  },
  {
   "cell_type": "code",
   "execution_count": null,
   "id": "7be8dbc3-8b92-4508-a35d-a32e9c235294",
   "metadata": {},
   "outputs": [],
   "source": [
    "#Esercizio_8"
   ]
  },
  {
   "cell_type": "code",
   "execution_count": 38,
   "id": "5942559a-c88a-40e8-b3f5-0c790ed9f381",
   "metadata": {},
   "outputs": [],
   "source": [
    "Nome_Scuola=\"Epicode\""
   ]
  },
  {
   "cell_type": "code",
   "execution_count": 50,
   "id": "f525ef53-3bda-47a0-a71b-10a68c5da05a",
   "metadata": {},
   "outputs": [
    {
     "name": "stdout",
     "output_type": "stream",
     "text": [
      "E\n",
      "p\n",
      "i\n",
      "c\n",
      "o\n",
      "d\n",
      "e\n"
     ]
    }
   ],
   "source": [
    "for Lettera in Nome_Scuola:\n",
    "    print(Lettera)"
   ]
  },
  {
   "cell_type": "code",
   "execution_count": null,
   "id": "da9e6025-d500-49d7-aa95-b41a556bcec2",
   "metadata": {},
   "outputs": [],
   "source": []
  },
  {
   "cell_type": "code",
   "execution_count": null,
   "id": "f0e7ad09-3ec5-4d02-89c8-cb1a99af1dea",
   "metadata": {},
   "outputs": [],
   "source": [
    "#Esercizio_9"
   ]
  },
  {
   "cell_type": "code",
   "execution_count": 52,
   "id": "35c623fd-d7de-4059-b347-3bf0af20028d",
   "metadata": {},
   "outputs": [],
   "source": [
    "I=0"
   ]
  },
  {
   "cell_type": "code",
   "execution_count": 54,
   "id": "15d561af-6f61-4c11-84e9-1a959a626119",
   "metadata": {},
   "outputs": [
    {
     "name": "stdout",
     "output_type": "stream",
     "text": [
      "1\n",
      "2\n",
      "4\n",
      "8\n",
      "16\n",
      "32\n",
      "64\n",
      "128\n",
      "256\n",
      "512\n"
     ]
    }
   ],
   "source": [
    "for I in range (10):\n",
    "    print (2**I)"
   ]
  },
  {
   "cell_type": "code",
   "execution_count": null,
   "id": "e632249a-c589-4191-9f5e-74cc68ab6c9f",
   "metadata": {},
   "outputs": [],
   "source": []
  }
 ],
 "metadata": {
  "kernelspec": {
   "display_name": "Python [conda env:base] *",
   "language": "python",
   "name": "conda-base-py"
  },
  "language_info": {
   "codemirror_mode": {
    "name": "ipython",
    "version": 3
   },
   "file_extension": ".py",
   "mimetype": "text/x-python",
   "name": "python",
   "nbconvert_exporter": "python",
   "pygments_lexer": "ipython3",
   "version": "3.12.7"
  }
 },
 "nbformat": 4,
 "nbformat_minor": 5
}
